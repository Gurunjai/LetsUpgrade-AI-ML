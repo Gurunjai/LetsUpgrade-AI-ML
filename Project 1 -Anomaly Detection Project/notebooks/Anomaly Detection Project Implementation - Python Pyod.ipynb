{
 "cells": [
  {
   "cell_type": "markdown",
   "metadata": {},
   "source": [
    "# Import Python Packages"
   ]
  },
  {
   "cell_type": "code",
   "execution_count": 1,
   "metadata": {
    "ExecuteTime": {
     "end_time": "2020-10-22T22:04:23.978487Z",
     "start_time": "2020-10-22T22:04:22.289989Z"
    }
   },
   "outputs": [],
   "source": [
    "import os\n",
    "import sys\n",
    "import numpy as np\n",
    "import pandas as pd\n",
    "\n",
    "from sklearn.model_selection import train_test_split\n",
    "from scipy.io import loadmat"
   ]
  },
  {
   "cell_type": "code",
   "execution_count": 2,
   "metadata": {
    "ExecuteTime": {
     "end_time": "2020-10-22T22:04:30.321764Z",
     "start_time": "2020-10-22T22:04:23.978487Z"
    }
   },
   "outputs": [
    {
     "name": "stdout",
     "output_type": "stream",
     "text": [
      "Requirement already satisfied: pyod in c:\\users\\gkrishnamurthy\\anaconda3\\lib\\site-packages (0.8.3)\n",
      "Requirement already satisfied: scikit-learn>=0.19.1 in c:\\users\\gkrishnamurthy\\anaconda3\\lib\\site-packages (from pyod) (0.23.1)\n",
      "Requirement already satisfied: suod in c:\\users\\gkrishnamurthy\\anaconda3\\lib\\site-packages (from pyod) (0.0.4)\n",
      "Requirement already satisfied: numpy>=1.13 in c:\\users\\gkrishnamurthy\\anaconda3\\lib\\site-packages (from pyod) (1.18.5)\n",
      "Requirement already satisfied: pandas>=0.25 in c:\\users\\gkrishnamurthy\\anaconda3\\lib\\site-packages (from pyod) (1.0.5)\n",
      "Requirement already satisfied: joblib in c:\\users\\gkrishnamurthy\\anaconda3\\lib\\site-packages (from pyod) (0.16.0)\n",
      "Requirement already satisfied: combo in c:\\users\\gkrishnamurthy\\anaconda3\\lib\\site-packages (from pyod) (0.1.1)\n",
      "Requirement already satisfied: six in c:\\users\\gkrishnamurthy\\anaconda3\\lib\\site-packages (from pyod) (1.15.0)\n",
      "Requirement already satisfied: numba>=0.35 in c:\\users\\gkrishnamurthy\\anaconda3\\lib\\site-packages (from pyod) (0.50.1)\n",
      "Requirement already satisfied: scipy>=0.19.1 in c:\\users\\gkrishnamurthy\\anaconda3\\lib\\site-packages (from pyod) (1.5.0)\n",
      "Requirement already satisfied: statsmodels in c:\\users\\gkrishnamurthy\\anaconda3\\lib\\site-packages (from pyod) (0.11.1)\n",
      "Requirement already satisfied: matplotlib in c:\\users\\gkrishnamurthy\\anaconda3\\lib\\site-packages (from pyod) (3.2.2)\n",
      "Requirement already satisfied: threadpoolctl>=2.0.0 in c:\\users\\gkrishnamurthy\\anaconda3\\lib\\site-packages (from scikit-learn>=0.19.1->pyod) (2.1.0)\n",
      "Requirement already satisfied: python-dateutil>=2.6.1 in c:\\users\\gkrishnamurthy\\anaconda3\\lib\\site-packages (from pandas>=0.25->pyod) (2.8.1)\n",
      "Requirement already satisfied: pytz>=2017.2 in c:\\users\\gkrishnamurthy\\anaconda3\\lib\\site-packages (from pandas>=0.25->pyod) (2020.1)\n",
      "Requirement already satisfied: llvmlite<0.34,>=0.33.0.dev0 in c:\\users\\gkrishnamurthy\\anaconda3\\lib\\site-packages (from numba>=0.35->pyod) (0.33.0+1.g022ab0f)\n",
      "Requirement already satisfied: setuptools in c:\\users\\gkrishnamurthy\\anaconda3\\lib\\site-packages (from numba>=0.35->pyod) (49.2.0.post20200714)\n",
      "Requirement already satisfied: patsy>=0.5 in c:\\users\\gkrishnamurthy\\anaconda3\\lib\\site-packages (from statsmodels->pyod) (0.5.1)\n",
      "Requirement already satisfied: cycler>=0.10 in c:\\users\\gkrishnamurthy\\anaconda3\\lib\\site-packages (from matplotlib->pyod) (0.10.0)\n",
      "Requirement already satisfied: kiwisolver>=1.0.1 in c:\\users\\gkrishnamurthy\\anaconda3\\lib\\site-packages (from matplotlib->pyod) (1.2.0)\n",
      "Requirement already satisfied: pyparsing!=2.0.4,!=2.1.2,!=2.1.6,>=2.0.1 in c:\\users\\gkrishnamurthy\\anaconda3\\lib\\site-packages (from matplotlib->pyod) (2.4.7)\n"
     ]
    }
   ],
   "source": [
    "!pip install pyod"
   ]
  },
  {
   "cell_type": "markdown",
   "metadata": {},
   "source": [
    "# Import Pyod Packages & the methods"
   ]
  },
  {
   "cell_type": "code",
   "execution_count": 3,
   "metadata": {
    "ExecuteTime": {
     "end_time": "2020-10-22T22:04:33.230697Z",
     "start_time": "2020-10-22T22:04:30.322768Z"
    }
   },
   "outputs": [
    {
     "name": "stderr",
     "output_type": "stream",
     "text": [
      "C:\\Users\\gkrishnamurthy\\Anaconda3\\lib\\site-packages\\sklearn\\utils\\deprecation.py:143: FutureWarning: The sklearn.utils.testing module is  deprecated in version 0.22 and will be removed in version 0.24. The corresponding classes / functions should instead be imported from sklearn.utils. Anything that cannot be imported from sklearn.utils is now part of the private API.\n",
      "  warnings.warn(message, FutureWarning)\n"
     ]
    }
   ],
   "source": [
    "from pyod.models.pca import PCA\n",
    "from pyod.models.mcd import MCD\n",
    "from pyod.models.ocsvm import OCSVM\n",
    "from pyod.models.lof import LOF\n",
    "from pyod.models.cblof import CBLOF\n",
    "from pyod.models.knn import KNN\n",
    "from pyod.models.hbos import HBOS\n",
    "from pyod.models.abod import ABOD\n",
    "from pyod.models.iforest import IForest\n",
    "from pyod.models.feature_bagging import FeatureBagging"
   ]
  },
  {
   "cell_type": "markdown",
   "metadata": {},
   "source": [
    "# Import Metrics Packages"
   ]
  },
  {
   "cell_type": "code",
   "execution_count": 4,
   "metadata": {
    "ExecuteTime": {
     "end_time": "2020-10-22T22:04:33.239500Z",
     "start_time": "2020-10-22T22:04:33.231733Z"
    }
   },
   "outputs": [],
   "source": [
    "from pyod.utils.utility import standardizer\n",
    "from pyod.utils.utility import precision_n_scores\n",
    "from sklearn.metrics import roc_auc_score"
   ]
  },
  {
   "cell_type": "markdown",
   "metadata": {},
   "source": [
    "# Define data file and read X and y"
   ]
  },
  {
   "cell_type": "code",
   "execution_count": 5,
   "metadata": {
    "ExecuteTime": {
     "end_time": "2020-10-22T22:04:34.412238Z",
     "start_time": "2020-10-22T22:04:34.395735Z"
    }
   },
   "outputs": [],
   "source": [
    "mat_file_list = ['arrhythmia.mat',\n",
    "                 'cardio.mat',\n",
    "                 'glass.mat',\n",
    "                 'ionosphere.mat',\n",
    "                 'letter.mat',\n",
    "                 'lympho.mat',\n",
    "                 'mnist.mat',\n",
    "                 'musk.mat',\n",
    "                 'optdigits.mat',\n",
    "                 'pendigits.mat',\n",
    "                 'pima.mat',\n",
    "                 'satellite.mat',\n",
    "                 'satimage-2.mat',\n",
    "                 'shuttle.mat',\n",
    "                 'vertebral.mat',\n",
    "                 'vowels.mat',\n",
    "                 'wbc.mat']"
   ]
  },
  {
   "cell_type": "code",
   "execution_count": 6,
   "metadata": {
    "ExecuteTime": {
     "end_time": "2020-10-22T22:04:34.909496Z",
     "start_time": "2020-10-22T22:04:34.886190Z"
    }
   },
   "outputs": [
    {
     "data": {
      "text/plain": [
       "['arrhythmia.mat',\n",
       " 'cardio.mat',\n",
       " 'glass.mat',\n",
       " 'ionosphere.mat',\n",
       " 'letter.mat',\n",
       " 'lympho.mat',\n",
       " 'mnist.mat',\n",
       " 'musk.mat',\n",
       " 'optdigits.mat',\n",
       " 'pendigits.mat',\n",
       " 'pima.mat',\n",
       " 'satellite.mat',\n",
       " 'satimage-2.mat',\n",
       " 'shuttle.mat',\n",
       " 'vertebral.mat',\n",
       " 'vowels.mat',\n",
       " 'wbc.mat']"
      ]
     },
     "execution_count": 6,
     "metadata": {},
     "output_type": "execute_result"
    }
   ],
   "source": [
    "mat_file_list"
   ]
  },
  {
   "cell_type": "markdown",
   "metadata": {},
   "source": [
    "# How to load Mat File "
   ]
  },
  {
   "cell_type": "code",
   "execution_count": 7,
   "metadata": {
    "ExecuteTime": {
     "end_time": "2020-10-22T22:04:35.834136Z",
     "start_time": "2020-10-22T22:04:35.820801Z"
    }
   },
   "outputs": [],
   "source": [
    "from scipy.io import loadmat"
   ]
  },
  {
   "cell_type": "code",
   "execution_count": 8,
   "metadata": {
    "ExecuteTime": {
     "end_time": "2020-10-22T22:04:36.337186Z",
     "start_time": "2020-10-22T22:04:36.317157Z"
    }
   },
   "outputs": [],
   "source": [
    "data=loadmat('../data/cardio.mat')"
   ]
  },
  {
   "cell_type": "code",
   "execution_count": 9,
   "metadata": {
    "ExecuteTime": {
     "end_time": "2020-10-22T22:04:36.871903Z",
     "start_time": "2020-10-22T22:04:36.860777Z"
    }
   },
   "outputs": [
    {
     "data": {
      "text/plain": [
       "{'__header__': b'MATLAB 5.0 MAT-file, written by Octave 3.8.0, 2014-12-18 10:48:09 UTC',\n",
       " '__version__': '1.0',\n",
       " '__globals__': [],\n",
       " 'X': array([[ 0.00491231,  0.69319077, -0.20364049, ...,  0.23149795,\n",
       "         -0.28978574, -0.49329397],\n",
       "        [ 0.11072935, -0.07990259, -0.20364049, ...,  0.09356344,\n",
       "         -0.25638541, -0.49329397],\n",
       "        [ 0.21654639, -0.27244466, -0.20364049, ...,  0.02459619,\n",
       "         -0.25638541,  1.14001753],\n",
       "        ...,\n",
       "        [-0.41835583, -0.91998844, -0.16463485, ..., -1.49268341,\n",
       "          0.24461959, -0.49329397],\n",
       "        [-0.41835583, -0.91998844, -0.15093411, ..., -1.42371616,\n",
       "          0.14441859, -0.49329397],\n",
       "        [-0.41835583, -0.91998844, -0.20364049, ..., -1.28578165,\n",
       "          3.58465295, -0.49329397]]),\n",
       " 'y': array([[0.],\n",
       "        [0.],\n",
       "        [0.],\n",
       "        ...,\n",
       "        [1.],\n",
       "        [1.],\n",
       "        [1.]])}"
      ]
     },
     "execution_count": 9,
     "metadata": {},
     "output_type": "execute_result"
    }
   ],
   "source": [
    "data"
   ]
  },
  {
   "cell_type": "code",
   "execution_count": 10,
   "metadata": {
    "ExecuteTime": {
     "end_time": "2020-10-22T22:04:37.440807Z",
     "start_time": "2020-10-22T22:04:37.433205Z"
    }
   },
   "outputs": [
    {
     "data": {
      "text/plain": [
       "5"
      ]
     },
     "execution_count": 10,
     "metadata": {},
     "output_type": "execute_result"
    }
   ],
   "source": [
    "len(data)"
   ]
  },
  {
   "cell_type": "code",
   "execution_count": 11,
   "metadata": {
    "ExecuteTime": {
     "end_time": "2020-10-22T22:04:38.005214Z",
     "start_time": "2020-10-22T22:04:37.995652Z"
    }
   },
   "outputs": [
    {
     "data": {
      "text/plain": [
       "dict_keys(['__header__', '__version__', '__globals__', 'X', 'y'])"
      ]
     },
     "execution_count": 11,
     "metadata": {},
     "output_type": "execute_result"
    }
   ],
   "source": [
    "data.keys()"
   ]
  },
  {
   "cell_type": "code",
   "execution_count": 12,
   "metadata": {
    "ExecuteTime": {
     "end_time": "2020-10-22T22:04:38.456501Z",
     "start_time": "2020-10-22T22:04:38.447238Z"
    }
   },
   "outputs": [
    {
     "data": {
      "text/plain": [
       "dict_values([b'MATLAB 5.0 MAT-file, written by Octave 3.8.0, 2014-12-18 10:48:09 UTC', '1.0', [], array([[ 0.00491231,  0.69319077, -0.20364049, ...,  0.23149795,\n",
       "        -0.28978574, -0.49329397],\n",
       "       [ 0.11072935, -0.07990259, -0.20364049, ...,  0.09356344,\n",
       "        -0.25638541, -0.49329397],\n",
       "       [ 0.21654639, -0.27244466, -0.20364049, ...,  0.02459619,\n",
       "        -0.25638541,  1.14001753],\n",
       "       ...,\n",
       "       [-0.41835583, -0.91998844, -0.16463485, ..., -1.49268341,\n",
       "         0.24461959, -0.49329397],\n",
       "       [-0.41835583, -0.91998844, -0.15093411, ..., -1.42371616,\n",
       "         0.14441859, -0.49329397],\n",
       "       [-0.41835583, -0.91998844, -0.20364049, ..., -1.28578165,\n",
       "         3.58465295, -0.49329397]]), array([[0.],\n",
       "       [0.],\n",
       "       [0.],\n",
       "       ...,\n",
       "       [1.],\n",
       "       [1.],\n",
       "       [1.]])])"
      ]
     },
     "execution_count": 12,
     "metadata": {},
     "output_type": "execute_result"
    }
   ],
   "source": [
    "data.values()"
   ]
  },
  {
   "cell_type": "markdown",
   "metadata": {},
   "source": [
    "# Input(Independent) Feature Shape in Mat file format"
   ]
  },
  {
   "cell_type": "code",
   "execution_count": 13,
   "metadata": {
    "ExecuteTime": {
     "end_time": "2020-10-22T22:04:39.364234Z",
     "start_time": "2020-10-22T22:04:39.350613Z"
    }
   },
   "outputs": [
    {
     "data": {
      "text/plain": [
       "(numpy.ndarray, (1831, 21))"
      ]
     },
     "execution_count": 13,
     "metadata": {},
     "output_type": "execute_result"
    }
   ],
   "source": [
    "type(data['X']),data['X'].shape"
   ]
  },
  {
   "cell_type": "markdown",
   "metadata": {},
   "source": [
    "# Dependent/ Target /Output Feature shape"
   ]
  },
  {
   "cell_type": "code",
   "execution_count": 14,
   "metadata": {
    "ExecuteTime": {
     "end_time": "2020-10-22T22:04:40.286746Z",
     "start_time": "2020-10-22T22:04:40.277426Z"
    }
   },
   "outputs": [
    {
     "data": {
      "text/plain": [
       "(numpy.ndarray, (1831, 1))"
      ]
     },
     "execution_count": 14,
     "metadata": {},
     "output_type": "execute_result"
    }
   ],
   "source": [
    "type(data['y']),data['y'].shape"
   ]
  },
  {
   "cell_type": "code",
   "execution_count": 15,
   "metadata": {
    "ExecuteTime": {
     "end_time": "2020-10-22T22:04:40.866842Z",
     "start_time": "2020-10-22T22:04:40.858888Z"
    }
   },
   "outputs": [],
   "source": [
    "df_columns = ['Data', '#Samples', '# Dimensions', 'Outlier Perc',\n",
    "              'ABOD', 'CBLOF', 'FB', 'HBOS', 'IForest', 'KNN', 'LOF', 'MCD',\n",
    "              'OCSVM', 'PCA']"
   ]
  },
  {
   "cell_type": "markdown",
   "metadata": {},
   "source": [
    "# ROC Performance evulotion table"
   ]
  },
  {
   "cell_type": "code",
   "execution_count": 16,
   "metadata": {
    "ExecuteTime": {
     "end_time": "2020-10-22T22:04:41.919171Z",
     "start_time": "2020-10-22T22:04:41.894035Z"
    }
   },
   "outputs": [],
   "source": [
    "roc_df = pd.DataFrame(columns=df_columns)\n"
   ]
  },
  {
   "cell_type": "code",
   "execution_count": 17,
   "metadata": {
    "ExecuteTime": {
     "end_time": "2020-10-22T22:04:42.343628Z",
     "start_time": "2020-10-22T22:04:42.316175Z"
    }
   },
   "outputs": [
    {
     "data": {
      "text/html": [
       "<div>\n",
       "<style scoped>\n",
       "    .dataframe tbody tr th:only-of-type {\n",
       "        vertical-align: middle;\n",
       "    }\n",
       "\n",
       "    .dataframe tbody tr th {\n",
       "        vertical-align: top;\n",
       "    }\n",
       "\n",
       "    .dataframe thead th {\n",
       "        text-align: right;\n",
       "    }\n",
       "</style>\n",
       "<table border=\"1\" class=\"dataframe\">\n",
       "  <thead>\n",
       "    <tr style=\"text-align: right;\">\n",
       "      <th></th>\n",
       "      <th>Data</th>\n",
       "      <th>#Samples</th>\n",
       "      <th># Dimensions</th>\n",
       "      <th>Outlier Perc</th>\n",
       "      <th>ABOD</th>\n",
       "      <th>CBLOF</th>\n",
       "      <th>FB</th>\n",
       "      <th>HBOS</th>\n",
       "      <th>IForest</th>\n",
       "      <th>KNN</th>\n",
       "      <th>LOF</th>\n",
       "      <th>MCD</th>\n",
       "      <th>OCSVM</th>\n",
       "      <th>PCA</th>\n",
       "    </tr>\n",
       "  </thead>\n",
       "  <tbody>\n",
       "  </tbody>\n",
       "</table>\n",
       "</div>"
      ],
      "text/plain": [
       "Empty DataFrame\n",
       "Columns: [Data, #Samples, # Dimensions, Outlier Perc, ABOD, CBLOF, FB, HBOS, IForest, KNN, LOF, MCD, OCSVM, PCA]\n",
       "Index: []"
      ]
     },
     "execution_count": 17,
     "metadata": {},
     "output_type": "execute_result"
    }
   ],
   "source": [
    "roc_df"
   ]
  },
  {
   "cell_type": "markdown",
   "metadata": {},
   "source": [
    "# precision_n_scores - Performance evulotion table"
   ]
  },
  {
   "cell_type": "code",
   "execution_count": 18,
   "metadata": {
    "ExecuteTime": {
     "end_time": "2020-10-22T22:04:43.255070Z",
     "start_time": "2020-10-22T22:04:43.234524Z"
    }
   },
   "outputs": [
    {
     "data": {
      "text/html": [
       "<div>\n",
       "<style scoped>\n",
       "    .dataframe tbody tr th:only-of-type {\n",
       "        vertical-align: middle;\n",
       "    }\n",
       "\n",
       "    .dataframe tbody tr th {\n",
       "        vertical-align: top;\n",
       "    }\n",
       "\n",
       "    .dataframe thead th {\n",
       "        text-align: right;\n",
       "    }\n",
       "</style>\n",
       "<table border=\"1\" class=\"dataframe\">\n",
       "  <thead>\n",
       "    <tr style=\"text-align: right;\">\n",
       "      <th></th>\n",
       "      <th>Data</th>\n",
       "      <th>#Samples</th>\n",
       "      <th># Dimensions</th>\n",
       "      <th>Outlier Perc</th>\n",
       "      <th>ABOD</th>\n",
       "      <th>CBLOF</th>\n",
       "      <th>FB</th>\n",
       "      <th>HBOS</th>\n",
       "      <th>IForest</th>\n",
       "      <th>KNN</th>\n",
       "      <th>LOF</th>\n",
       "      <th>MCD</th>\n",
       "      <th>OCSVM</th>\n",
       "      <th>PCA</th>\n",
       "    </tr>\n",
       "  </thead>\n",
       "  <tbody>\n",
       "  </tbody>\n",
       "</table>\n",
       "</div>"
      ],
      "text/plain": [
       "Empty DataFrame\n",
       "Columns: [Data, #Samples, # Dimensions, Outlier Perc, ABOD, CBLOF, FB, HBOS, IForest, KNN, LOF, MCD, OCSVM, PCA]\n",
       "Index: []"
      ]
     },
     "execution_count": 18,
     "metadata": {},
     "output_type": "execute_result"
    }
   ],
   "source": [
    "prn_df = pd.DataFrame(columns=df_columns)\n",
    "prn_df\n"
   ]
  },
  {
   "cell_type": "markdown",
   "metadata": {},
   "source": [
    "# Time dataframe"
   ]
  },
  {
   "cell_type": "code",
   "execution_count": 19,
   "metadata": {
    "ExecuteTime": {
     "end_time": "2020-10-22T22:04:44.247965Z",
     "start_time": "2020-10-22T22:04:44.232164Z"
    }
   },
   "outputs": [],
   "source": [
    "time_df = pd.DataFrame(columns=df_columns)"
   ]
  },
  {
   "cell_type": "code",
   "execution_count": 20,
   "metadata": {
    "ExecuteTime": {
     "end_time": "2020-10-22T22:04:44.941265Z",
     "start_time": "2020-10-22T22:04:44.924449Z"
    }
   },
   "outputs": [
    {
     "data": {
      "text/html": [
       "<div>\n",
       "<style scoped>\n",
       "    .dataframe tbody tr th:only-of-type {\n",
       "        vertical-align: middle;\n",
       "    }\n",
       "\n",
       "    .dataframe tbody tr th {\n",
       "        vertical-align: top;\n",
       "    }\n",
       "\n",
       "    .dataframe thead th {\n",
       "        text-align: right;\n",
       "    }\n",
       "</style>\n",
       "<table border=\"1\" class=\"dataframe\">\n",
       "  <thead>\n",
       "    <tr style=\"text-align: right;\">\n",
       "      <th></th>\n",
       "      <th>Data</th>\n",
       "      <th>#Samples</th>\n",
       "      <th># Dimensions</th>\n",
       "      <th>Outlier Perc</th>\n",
       "      <th>ABOD</th>\n",
       "      <th>CBLOF</th>\n",
       "      <th>FB</th>\n",
       "      <th>HBOS</th>\n",
       "      <th>IForest</th>\n",
       "      <th>KNN</th>\n",
       "      <th>LOF</th>\n",
       "      <th>MCD</th>\n",
       "      <th>OCSVM</th>\n",
       "      <th>PCA</th>\n",
       "    </tr>\n",
       "  </thead>\n",
       "  <tbody>\n",
       "  </tbody>\n",
       "</table>\n",
       "</div>"
      ],
      "text/plain": [
       "Empty DataFrame\n",
       "Columns: [Data, #Samples, # Dimensions, Outlier Perc, ABOD, CBLOF, FB, HBOS, IForest, KNN, LOF, MCD, OCSVM, PCA]\n",
       "Index: []"
      ]
     },
     "execution_count": 20,
     "metadata": {},
     "output_type": "execute_result"
    }
   ],
   "source": [
    "time_df"
   ]
  },
  {
   "cell_type": "markdown",
   "metadata": {},
   "source": [
    "# Exploraing All Mat files"
   ]
  },
  {
   "cell_type": "code",
   "execution_count": 21,
   "metadata": {
    "ExecuteTime": {
     "end_time": "2020-10-23T00:51:37.858466Z",
     "start_time": "2020-10-22T22:04:46.042591Z"
    }
   },
   "outputs": [
    {
     "name": "stdout",
     "output_type": "stream",
     "text": [
      "\n",
      "... Processing arrhythmia.mat ...\n",
      "Angle-based Outlier Detector (ABOD) ROC:0.7687, precision @ rank n:0.3571, execution time: 3.0879s\n"
     ]
    },
    {
     "name": "stderr",
     "output_type": "stream",
     "text": [
      "C:\\Users\\gkrishnamurthy\\Anaconda3\\lib\\site-packages\\sklearn\\cluster\\_kmeans.py:973: FutureWarning: 'n_jobs' was deprecated in version 0.23 and will be removed in 0.25.\n",
      "  warnings.warn(\"'n_jobs' was deprecated in version 0.23 and will be\"\n"
     ]
    },
    {
     "name": "stdout",
     "output_type": "stream",
     "text": [
      "Cluster-based Local Outlier Factor ROC:0.7684, precision @ rank n:0.4643, execution time: 3.0459s\n",
      "Feature Bagging ROC:0.7799, precision @ rank n:0.5, execution time: 1.3434s\n",
      "Histogram-base Outlier Detection (HBOS) ROC:0.8511, precision @ rank n:0.5714, execution time: 4.0855s\n",
      "Isolation Forest ROC:0.8478, precision @ rank n:0.5357, execution time: 0.772s\n",
      "K Nearest Neighbors (KNN) ROC:0.782, precision @ rank n:0.5, execution time: 0.2334s\n",
      "Local Outlier Factor (LOF) ROC:0.7787, precision @ rank n:0.4643, execution time: 0.1811s\n"
     ]
    },
    {
     "name": "stderr",
     "output_type": "stream",
     "text": [
      "C:\\Users\\gkrishnamurthy\\Anaconda3\\lib\\site-packages\\sklearn\\covariance\\_robust_covariance.py:647: UserWarning: The covariance matrix associated to your dataset is not full rank\n",
      "  warnings.warn(\"The covariance matrix associated to your dataset \"\n"
     ]
    },
    {
     "name": "stdout",
     "output_type": "stream",
     "text": [
      "Minimum Covariance Determinant (MCD) ROC:0.8228, precision @ rank n:0.4286, execution time: 1.1639s\n",
      "One-class SVM (OCSVM) ROC:0.7986, precision @ rank n:0.5, execution time: 0.0859s\n",
      "Principal Component Analysis (PCA) ROC:0.7997, precision @ rank n:0.5, execution time: 0.1371s\n",
      "\n",
      "... Processing cardio.mat ...\n",
      "Angle-based Outlier Detector (ABOD) ROC:0.5763, precision @ rank n:0.1875, execution time: 0.669s\n",
      "Cluster-based Local Outlier Factor ROC:0.8221, precision @ rank n:0.4844, execution time: 0.1948s\n"
     ]
    },
    {
     "name": "stderr",
     "output_type": "stream",
     "text": [
      "C:\\Users\\gkrishnamurthy\\Anaconda3\\lib\\site-packages\\sklearn\\cluster\\_kmeans.py:973: FutureWarning: 'n_jobs' was deprecated in version 0.23 and will be removed in 0.25.\n",
      "  warnings.warn(\"'n_jobs' was deprecated in version 0.23 and will be\"\n"
     ]
    },
    {
     "name": "stdout",
     "output_type": "stream",
     "text": [
      "Feature Bagging ROC:0.4879, precision @ rank n:0.1406, execution time: 1.1015s\n",
      "Histogram-base Outlier Detection (HBOS) ROC:0.8453, precision @ rank n:0.4688, execution time: 0.0113s\n",
      "Isolation Forest ROC:0.9316, precision @ rank n:0.4531, execution time: 1.1807s\n",
      "K Nearest Neighbors (KNN) ROC:0.6959, precision @ rank n:0.2812, execution time: 0.3503s\n",
      "Local Outlier Factor (LOF) ROC:0.4715, precision @ rank n:0.125, execution time: 0.2292s\n"
     ]
    },
    {
     "name": "stderr",
     "output_type": "stream",
     "text": [
      "C:\\Users\\gkrishnamurthy\\Anaconda3\\lib\\site-packages\\sklearn\\covariance\\_robust_covariance.py:647: UserWarning: The covariance matrix associated to your dataset is not full rank\n",
      "  warnings.warn(\"The covariance matrix associated to your dataset \"\n",
      "C:\\Users\\gkrishnamurthy\\Anaconda3\\lib\\site-packages\\sklearn\\covariance\\_robust_covariance.py:166: RuntimeWarning: Determinant has increased; this should not happen: log(det) > log(previous_det) (-152.770956835748848 > -250.696836140088948). You may want to try with a higher value of support_fraction (current value: 0.511).\n",
      "  warnings.warn(\"Determinant has increased; this should not happen: \"\n"
     ]
    },
    {
     "name": "stdout",
     "output_type": "stream",
     "text": [
      "Minimum Covariance Determinant (MCD) ROC:0.8778, precision @ rank n:0.3906, execution time: 1.213s\n",
      "One-class SVM (OCSVM) ROC:0.9507, precision @ rank n:0.5938, execution time: 0.1593s\n",
      "Principal Component Analysis (PCA) ROC:0.9638, precision @ rank n:0.6875, execution time: 0.0138s\n",
      "\n",
      "... Processing glass.mat ...\n",
      "Angle-based Outlier Detector (ABOD) ROC:0.7104, precision @ rank n:0.25, execution time: 0.1317s\n"
     ]
    },
    {
     "name": "stderr",
     "output_type": "stream",
     "text": [
      "C:\\Users\\gkrishnamurthy\\Anaconda3\\lib\\site-packages\\sklearn\\cluster\\_kmeans.py:973: FutureWarning: 'n_jobs' was deprecated in version 0.23 and will be removed in 0.25.\n",
      "  warnings.warn(\"'n_jobs' was deprecated in version 0.23 and will be\"\n"
     ]
    },
    {
     "name": "stdout",
     "output_type": "stream",
     "text": [
      "Cluster-based Local Outlier Factor ROC:0.8506, precision @ rank n:0.25, execution time: 0.1246s\n",
      "Feature Bagging ROC:0.7043, precision @ rank n:0.25, execution time: 0.1048s\n",
      "Histogram-base Outlier Detection (HBOS) ROC:0.6524, precision @ rank n:0.0, execution time: 0.0065s\n",
      "Isolation Forest ROC:0.7195, precision @ rank n:0.25, execution time: 0.9889s\n",
      "K Nearest Neighbors (KNN) ROC:0.7805, precision @ rank n:0.25, execution time: 0.0295s\n",
      "Local Outlier Factor (LOF) ROC:0.7774, precision @ rank n:0.25, execution time: 0.0077s\n",
      "Minimum Covariance Determinant (MCD) ROC:0.7165, precision @ rank n:0.0, execution time: 0.1132s\n",
      "One-class SVM (OCSVM) ROC:0.6189, precision @ rank n:0.25, execution time: 0.0032s\n",
      "Principal Component Analysis (PCA) ROC:0.622, precision @ rank n:0.25, execution time: 0.0074s\n",
      "\n",
      "... Processing ionosphere.mat ...\n",
      "Angle-based Outlier Detector (ABOD) ROC:0.9004, precision @ rank n:0.8214, execution time: 0.1871s\n",
      "Cluster-based Local Outlier Factor ROC:0.8952, precision @ rank n:0.8036, execution time: 0.1573s\n"
     ]
    },
    {
     "name": "stderr",
     "output_type": "stream",
     "text": [
      "C:\\Users\\gkrishnamurthy\\Anaconda3\\lib\\site-packages\\sklearn\\cluster\\_kmeans.py:973: FutureWarning: 'n_jobs' was deprecated in version 0.23 and will be removed in 0.25.\n",
      "  warnings.warn(\"'n_jobs' was deprecated in version 0.23 and will be\"\n"
     ]
    },
    {
     "name": "stdout",
     "output_type": "stream",
     "text": [
      "Feature Bagging ROC:0.8933, precision @ rank n:0.75, execution time: 0.1666s\n",
      "Histogram-base Outlier Detection (HBOS) ROC:0.5195, precision @ rank n:0.3393, execution time: 0.0177s\n",
      "Isolation Forest ROC:0.8294, precision @ rank n:0.6607, execution time: 0.9535s\n",
      "K Nearest Neighbors (KNN) ROC:0.9134, precision @ rank n:0.8393, execution time: 0.064s\n",
      "Local Outlier Factor (LOF) ROC:0.8989, precision @ rank n:0.75, execution time: 0.028s\n",
      "Minimum Covariance Determinant (MCD) ROC:0.9399, precision @ rank n:0.8571, execution time: 0.1798s\n",
      "One-class SVM (OCSVM) ROC:0.8372, precision @ rank n:0.7143, execution time: 0.0205s\n",
      "Principal Component Analysis (PCA) ROC:0.7971, precision @ rank n:0.5893, execution time: 0.0215s\n",
      "\n",
      "... Processing letter.mat ...\n",
      "Angle-based Outlier Detector (ABOD) ROC:0.8465, precision @ rank n:0.275, execution time: 1.0991s\n"
     ]
    },
    {
     "name": "stderr",
     "output_type": "stream",
     "text": [
      "C:\\Users\\gkrishnamurthy\\Anaconda3\\lib\\site-packages\\sklearn\\cluster\\_kmeans.py:973: FutureWarning: 'n_jobs' was deprecated in version 0.23 and will be removed in 0.25.\n",
      "  warnings.warn(\"'n_jobs' was deprecated in version 0.23 and will be\"\n"
     ]
    },
    {
     "name": "stdout",
     "output_type": "stream",
     "text": [
      "Cluster-based Local Outlier Factor ROC:0.7423, precision @ rank n:0.175, execution time: 0.2836s\n",
      "Feature Bagging ROC:0.866, precision @ rank n:0.4, execution time: 2.2322s\n",
      "Histogram-base Outlier Detection (HBOS) ROC:0.5728, precision @ rank n:0.125, execution time: 0.0392s\n",
      "Isolation Forest ROC:0.5836, precision @ rank n:0.05, execution time: 1.2008s\n",
      "K Nearest Neighbors (KNN) ROC:0.845, precision @ rank n:0.3, execution time: 0.4037s\n",
      "Local Outlier Factor (LOF) ROC:0.8409, precision @ rank n:0.325, execution time: 0.3005s\n",
      "Minimum Covariance Determinant (MCD) ROC:0.7499, precision @ rank n:0.075, execution time: 2.3654s\n",
      "One-class SVM (OCSVM) ROC:0.5744, precision @ rank n:0.1, execution time: 0.1754s\n",
      "Principal Component Analysis (PCA) ROC:0.48, precision @ rank n:0.05, execution time: 0.016s\n",
      "\n",
      "... Processing lympho.mat ...\n",
      "Angle-based Outlier Detector (ABOD) ROC:0.9382, precision @ rank n:0.4, execution time: 0.0944s\n"
     ]
    },
    {
     "name": "stderr",
     "output_type": "stream",
     "text": [
      "C:\\Users\\gkrishnamurthy\\Anaconda3\\lib\\site-packages\\sklearn\\cluster\\_kmeans.py:973: FutureWarning: 'n_jobs' was deprecated in version 0.23 and will be removed in 0.25.\n",
      "  warnings.warn(\"'n_jobs' was deprecated in version 0.23 and will be\"\n"
     ]
    },
    {
     "name": "stdout",
     "output_type": "stream",
     "text": [
      "Cluster-based Local Outlier Factor ROC:0.9709, precision @ rank n:0.6, execution time: 0.1348s\n",
      "Feature Bagging ROC:0.9673, precision @ rank n:0.6, execution time: 0.1254s\n",
      "Histogram-base Outlier Detection (HBOS) ROC:0.9964, precision @ rank n:0.8, execution time: 0.0093s\n",
      "Isolation Forest ROC:0.9855, precision @ rank n:0.6, execution time: 0.8664s\n",
      "K Nearest Neighbors (KNN) ROC:0.9636, precision @ rank n:0.6, execution time: 0.0098s\n",
      "Local Outlier Factor (LOF) ROC:0.9636, precision @ rank n:0.6, execution time: 0.0081s\n",
      "Minimum Covariance Determinant (MCD) ROC:0.9164, precision @ rank n:0.6, execution time: 0.1002s\n",
      "One-class SVM (OCSVM) ROC:0.9636, precision @ rank n:0.6, execution time: 0.0051s\n",
      "Principal Component Analysis (PCA) ROC:0.9818, precision @ rank n:0.8, execution time: 0.0058s\n",
      "\n",
      "... Processing"
     ]
    },
    {
     "name": "stderr",
     "output_type": "stream",
     "text": [
      "C:\\Users\\gkrishnamurthy\\Anaconda3\\lib\\site-packages\\sklearn\\covariance\\_robust_covariance.py:166: RuntimeWarning: Determinant has increased; this should not happen: log(det) > log(previous_det) (-303.881944356529402 > -525.830836350540153). You may want to try with a higher value of support_fraction (current value: 0.614).\n",
      "  warnings.warn(\"Determinant has increased; this should not happen: \"\n",
      "C:\\Users\\gkrishnamurthy\\Anaconda3\\lib\\site-packages\\sklearn\\covariance\\_robust_covariance.py:166: RuntimeWarning: Determinant has increased; this should not happen: log(det) > log(previous_det) (-304.021763033307082 > -523.143378896311901). You may want to try with a higher value of support_fraction (current value: 0.614).\n",
      "  warnings.warn(\"Determinant has increased; this should not happen: \"\n",
      "C:\\Users\\gkrishnamurthy\\Anaconda3\\lib\\site-packages\\sklearn\\covariance\\_robust_covariance.py:166: RuntimeWarning: Determinant has increased; this should not happen: log(det) > log(previous_det) (-338.921775030610604 > -381.672782741425522). You may want to try with a higher value of support_fraction (current value: 0.614).\n",
      "  warnings.warn(\"Determinant has increased; this should not happen: \"\n"
     ]
    },
    {
     "name": "stdout",
     "output_type": "stream",
     "text": [
      " mnist.mat ...\n",
      "Angle-based Outlier Detector (ABOD) ROC:0.7813, precision @ rank n:0.3562, execution time: 17.1418s\n"
     ]
    },
    {
     "name": "stderr",
     "output_type": "stream",
     "text": [
      "C:\\Users\\gkrishnamurthy\\Anaconda3\\lib\\site-packages\\sklearn\\cluster\\_kmeans.py:973: FutureWarning: 'n_jobs' was deprecated in version 0.23 and will be removed in 0.25.\n",
      "  warnings.warn(\"'n_jobs' was deprecated in version 0.23 and will be\"\n"
     ]
    },
    {
     "name": "stdout",
     "output_type": "stream",
     "text": [
      "Cluster-based Local Outlier Factor ROC:0.8447, precision @ rank n:0.4007, execution time: 0.9961s\n",
      "Feature Bagging ROC:0.7259, precision @ rank n:0.3664, execution time: 125.7463s\n",
      "Histogram-base Outlier Detection (HBOS) ROC:0.5675, precision @ rank n:0.1199, execution time: 0.1771s\n",
      "Isolation Forest ROC:0.7813, precision @ rank n:0.3116, execution time: 5.598s\n",
      "K Nearest Neighbors (KNN) ROC:0.8409, precision @ rank n:0.4144, execution time: 16.6752s\n",
      "Local Outlier Factor (LOF) ROC:0.7085, precision @ rank n:0.339, execution time: 15.8075s\n"
     ]
    },
    {
     "name": "stderr",
     "output_type": "stream",
     "text": [
      "C:\\Users\\gkrishnamurthy\\Anaconda3\\lib\\site-packages\\sklearn\\covariance\\_robust_covariance.py:647: UserWarning: The covariance matrix associated to your dataset is not full rank\n",
      "  warnings.warn(\"The covariance matrix associated to your dataset \"\n"
     ]
    },
    {
     "name": "stdout",
     "output_type": "stream",
     "text": [
      "Minimum Covariance Determinant (MCD) ROC:0.863, precision @ rank n:0.3973, execution time: 5.5237s\n",
      "One-class SVM (OCSVM) ROC:0.8417, precision @ rank n:0.3801, execution time: 10.3364s\n",
      "Principal Component Analysis (PCA) ROC:0.8396, precision @ rank n:0.3767, execution time: 0.285s\n",
      "\n",
      "... Processing musk.mat ...\n",
      "Angle-based Outlier Detector (ABOD) ROC:0.0809, precision @ rank n:0.0333, execution time: 5.8764s\n"
     ]
    },
    {
     "name": "stderr",
     "output_type": "stream",
     "text": [
      "C:\\Users\\gkrishnamurthy\\Anaconda3\\lib\\site-packages\\sklearn\\cluster\\_kmeans.py:973: FutureWarning: 'n_jobs' was deprecated in version 0.23 and will be removed in 0.25.\n",
      "  warnings.warn(\"'n_jobs' was deprecated in version 0.23 and will be\"\n"
     ]
    },
    {
     "name": "stdout",
     "output_type": "stream",
     "text": [
      "Cluster-based Local Outlier Factor ROC:1.0, precision @ rank n:1.0, execution time: 0.4994s\n",
      "Feature Bagging ROC:0.5228, precision @ rank n:0.1667, execution time: 26.8459s\n",
      "Histogram-base Outlier Detection (HBOS) ROC:0.9999, precision @ rank n:0.9667, execution time: 0.1298s\n",
      "Isolation Forest ROC:0.9992, precision @ rank n:0.9, execution time: 3.1083s\n",
      "K Nearest Neighbors (KNN) ROC:0.7348, precision @ rank n:0.2333, execution time: 4.1286s\n",
      "Local Outlier Factor (LOF) ROC:0.5323, precision @ rank n:0.1333, execution time: 3.8464s\n",
      "Minimum Covariance Determinant (MCD) ROC:1.0, precision @ rank n:0.9667, execution time: 19.219s\n",
      "One-class SVM (OCSVM) ROC:1.0, precision @ rank n:1.0, execution time: 2.7235s\n",
      "Principal Component Analysis (PCA) ROC:1.0, precision @ rank n:1.0, execution time: 0.3339s\n",
      "\n",
      "... Processing optdigits.mat ...\n",
      "Angle-based Outlier Detector (ABOD) ROC:0.4428, precision @ rank n:0.0161, execution time: 7.2024s\n"
     ]
    },
    {
     "name": "stderr",
     "output_type": "stream",
     "text": [
      "C:\\Users\\gkrishnamurthy\\Anaconda3\\lib\\site-packages\\sklearn\\cluster\\_kmeans.py:973: FutureWarning: 'n_jobs' was deprecated in version 0.23 and will be removed in 0.25.\n",
      "  warnings.warn(\"'n_jobs' was deprecated in version 0.23 and will be\"\n"
     ]
    },
    {
     "name": "stdout",
     "output_type": "stream",
     "text": [
      "Cluster-based Local Outlier Factor ROC:0.7852, precision @ rank n:0.0, execution time: 0.6747s\n",
      "Feature Bagging ROC:0.4641, precision @ rank n:0.0484, execution time: 35.4109s\n",
      "Histogram-base Outlier Detection (HBOS) ROC:0.8822, precision @ rank n:0.2581, execution time: 0.0815s\n",
      "Isolation Forest ROC:0.5442, precision @ rank n:0.0161, execution time: 2.6143s\n",
      "K Nearest Neighbors (KNN) ROC:0.3824, precision @ rank n:0.0, execution time: 4.7856s\n",
      "Local Outlier Factor (LOF) ROC:0.4584, precision @ rank n:0.0484, execution time: 4.1773s\n"
     ]
    },
    {
     "name": "stderr",
     "output_type": "stream",
     "text": [
      "C:\\Users\\gkrishnamurthy\\Anaconda3\\lib\\site-packages\\sklearn\\covariance\\_robust_covariance.py:647: UserWarning: The covariance matrix associated to your dataset is not full rank\n",
      "  warnings.warn(\"The covariance matrix associated to your dataset \"\n"
     ]
    },
    {
     "name": "stdout",
     "output_type": "stream",
     "text": [
      "Minimum Covariance Determinant (MCD) ROC:0.3486, precision @ rank n:0.0, execution time: 2.2305s\n",
      "One-class SVM (OCSVM) ROC:0.4972, precision @ rank n:0.0, execution time: 3.1378s\n",
      "Principal Component Analysis (PCA) ROC:0.504, precision @ rank n:0.0, execution time: 0.1046s\n",
      "\n",
      "... Processing pendigits.mat ...\n",
      "Angle-based Outlier Detector (ABOD) ROC:0.7008, precision @ rank n:0.0308, execution time: 4.3068s\n"
     ]
    },
    {
     "name": "stderr",
     "output_type": "stream",
     "text": [
      "C:\\Users\\gkrishnamurthy\\Anaconda3\\lib\\site-packages\\sklearn\\cluster\\_kmeans.py:973: FutureWarning: 'n_jobs' was deprecated in version 0.23 and will be removed in 0.25.\n",
      "  warnings.warn(\"'n_jobs' was deprecated in version 0.23 and will be\"\n"
     ]
    },
    {
     "name": "stdout",
     "output_type": "stream",
     "text": [
      "Cluster-based Local Outlier Factor ROC:0.9609, precision @ rank n:0.3077, execution time: 0.5637s\n",
      "Feature Bagging ROC:0.4687, precision @ rank n:0.0462, execution time: 12.1949s\n",
      "Histogram-base Outlier Detection (HBOS) ROC:0.9294, precision @ rank n:0.2615, execution time: 0.0248s\n",
      "Isolation Forest ROC:0.9482, precision @ rank n:0.2615, execution time: 1.9715s\n",
      "K Nearest Neighbors (KNN) ROC:0.7602, precision @ rank n:0.0462, execution time: 1.9056s\n",
      "Local Outlier Factor (LOF) ROC:0.481, precision @ rank n:0.0462, execution time: 1.6426s\n",
      "Minimum Covariance Determinant (MCD) ROC:0.8271, precision @ rank n:0.0615, execution time: 4.3741s\n",
      "One-class SVM (OCSVM) ROC:0.93, precision @ rank n:0.2923, execution time: 2.4307s\n",
      "Principal Component Analysis (PCA) ROC:0.9332, precision @ rank n:0.3385, execution time: 0.0228s\n",
      "\n",
      "... Processing pima.mat ...\n",
      "Angle-based Outlier Detector (ABOD) ROC:0.6757, precision @ rank n:0.5106, execution time: 0.4687s\n"
     ]
    },
    {
     "name": "stderr",
     "output_type": "stream",
     "text": [
      "C:\\Users\\gkrishnamurthy\\Anaconda3\\lib\\site-packages\\sklearn\\cluster\\_kmeans.py:973: FutureWarning: 'n_jobs' was deprecated in version 0.23 and will be removed in 0.25.\n",
      "  warnings.warn(\"'n_jobs' was deprecated in version 0.23 and will be\"\n"
     ]
    },
    {
     "name": "stdout",
     "output_type": "stream",
     "text": [
      "Cluster-based Local Outlier Factor ROC:0.684, precision @ rank n:0.4681, execution time: 0.2166s\n",
      "Feature Bagging ROC:0.6446, precision @ rank n:0.4468, execution time: 0.2837s\n",
      "Histogram-base Outlier Detection (HBOS) ROC:0.7169, precision @ rank n:0.5213, execution time: 0.0101s\n",
      "Isolation Forest ROC:0.6777, precision @ rank n:0.4787, execution time: 0.8876s\n",
      "K Nearest Neighbors (KNN) ROC:0.7252, precision @ rank n:0.5106, execution time: 0.0767s\n",
      "Local Outlier Factor (LOF) ROC:0.6604, precision @ rank n:0.4787, execution time: 0.0351s\n",
      "Minimum Covariance Determinant (MCD) ROC:0.7047, precision @ rank n:0.4787, execution time: 0.1352s\n",
      "One-class SVM (OCSVM) ROC:0.6423, precision @ rank n:0.4574, execution time: 0.0276s\n",
      "Principal Component Analysis (PCA) ROC:0.6639, precision @ rank n:0.5, execution time: 0.002s\n",
      "\n",
      "... Processing satellite.mat ...\n",
      "Angle-based Outlier Detector (ABOD) ROC:0.5681, precision @ rank n:0.3918, execution time: 5.4974s\n"
     ]
    },
    {
     "name": "stderr",
     "output_type": "stream",
     "text": [
      "C:\\Users\\gkrishnamurthy\\Anaconda3\\lib\\site-packages\\sklearn\\cluster\\_kmeans.py:973: FutureWarning: 'n_jobs' was deprecated in version 0.23 and will be removed in 0.25.\n",
      "  warnings.warn(\"'n_jobs' was deprecated in version 0.23 and will be\"\n"
     ]
    },
    {
     "name": "stdout",
     "output_type": "stream",
     "text": [
      "Cluster-based Local Outlier Factor ROC:0.7234, precision @ rank n:0.5574, execution time: 0.518s\n",
      "Feature Bagging ROC:0.557, precision @ rank n:0.4051, execution time: 19.2065s\n",
      "Histogram-base Outlier Detection (HBOS) ROC:0.7393, precision @ rank n:0.5466, execution time: 0.0491s\n",
      "Isolation Forest ROC:0.7094, precision @ rank n:0.578, execution time: 2.0297s\n",
      "K Nearest Neighbors (KNN) ROC:0.6781, precision @ rank n:0.4994, execution time: 2.6326s\n",
      "Local Outlier Factor (LOF) ROC:0.5551, precision @ rank n:0.4051, execution time: 2.5914s\n",
      "Minimum Covariance Determinant (MCD) ROC:0.792, precision @ rank n:0.6747, execution time: 4.4535s\n",
      "One-class SVM (OCSVM) ROC:0.636, precision @ rank n:0.5224, execution time: 3.5661s\n",
      "Principal Component Analysis (PCA) ROC:0.5783, precision @ rank n:0.4559, execution time: 0.0617s\n",
      "\n",
      "... Processing satimage-2.mat ...\n",
      "Angle-based Outlier Detector (ABOD) ROC:0.86, precision @ rank n:0.2593, execution time: 5.2477s\n"
     ]
    },
    {
     "name": "stderr",
     "output_type": "stream",
     "text": [
      "C:\\Users\\gkrishnamurthy\\Anaconda3\\lib\\site-packages\\sklearn\\cluster\\_kmeans.py:973: FutureWarning: 'n_jobs' was deprecated in version 0.23 and will be removed in 0.25.\n",
      "  warnings.warn(\"'n_jobs' was deprecated in version 0.23 and will be\"\n"
     ]
    },
    {
     "name": "stdout",
     "output_type": "stream",
     "text": [
      "Cluster-based Local Outlier Factor ROC:0.9987, precision @ rank n:0.8889, execution time: 0.4969s\n",
      "Feature Bagging ROC:0.4971, precision @ rank n:0.0741, execution time: 17.1768s\n",
      "Histogram-base Outlier Detection (HBOS) ROC:0.9837, precision @ rank n:0.5926, execution time: 0.0506s\n",
      "Isolation Forest ROC:0.9973, precision @ rank n:0.8889, execution time: 1.8037s\n",
      "K Nearest Neighbors (KNN) ROC:0.9505, precision @ rank n:0.3704, execution time: 2.2656s\n",
      "Local Outlier Factor (LOF) ROC:0.5006, precision @ rank n:0.0741, execution time: 2.1174s\n",
      "Minimum Covariance Determinant (MCD) ROC:0.9946, precision @ rank n:0.5185, execution time: 4.1394s\n",
      "One-class SVM (OCSVM) ROC:0.9976, precision @ rank n:0.9259, execution time: 2.6469s\n",
      "Principal Component Analysis (PCA) ROC:0.9841, precision @ rank n:0.8519, execution time: 0.0579s\n",
      "\n",
      "... Processing shuttle.mat ...\n",
      "Angle-based Outlier Detector (ABOD) ROC:0.6186, precision @ rank n:0.1918, execution time: 42.7357s\n"
     ]
    },
    {
     "name": "stderr",
     "output_type": "stream",
     "text": [
      "C:\\Users\\gkrishnamurthy\\Anaconda3\\lib\\site-packages\\sklearn\\cluster\\_kmeans.py:973: FutureWarning: 'n_jobs' was deprecated in version 0.23 and will be removed in 0.25.\n",
      "  warnings.warn(\"'n_jobs' was deprecated in version 0.23 and will be\"\n"
     ]
    },
    {
     "name": "stdout",
     "output_type": "stream",
     "text": [
      "Cluster-based Local Outlier Factor ROC:0.6286, precision @ rank n:0.2336, execution time: 1.4817s\n",
      "Feature Bagging ROC:0.5211, precision @ rank n:0.111, execution time: 140.7285s\n",
      "Histogram-base Outlier Detection (HBOS) ROC:0.9851, precision @ rank n:0.9857, execution time: 0.0397s\n",
      "Isolation Forest ROC:0.9972, precision @ rank n:0.9337, execution time: 7.3397s\n",
      "K Nearest Neighbors (KNN) ROC:0.645, precision @ rank n:0.2199, execution time: 25.8985s\n",
      "Local Outlier Factor (LOF) ROC:0.5347, precision @ rank n:0.1406, execution time: 38.1631s\n"
     ]
    },
    {
     "name": "stderr",
     "output_type": "stream",
     "text": [
      "C:\\Users\\gkrishnamurthy\\Anaconda3\\lib\\site-packages\\sklearn\\covariance\\_robust_covariance.py:166: RuntimeWarning: Determinant has increased; this should not happen: log(det) > log(previous_det) (-49.541490230701029 > -75.592253998160075). You may want to try with a higher value of support_fraction (current value: 0.503).\n",
      "  warnings.warn(\"Determinant has increased; this should not happen: \"\n",
      "C:\\Users\\gkrishnamurthy\\Anaconda3\\lib\\site-packages\\sklearn\\covariance\\_robust_covariance.py:166: RuntimeWarning: Determinant has increased; this should not happen: log(det) > log(previous_det) (-50.022992269210960 > -76.150022952275933). You may want to try with a higher value of support_fraction (current value: 0.503).\n",
      "  warnings.warn(\"Determinant has increased; this should not happen: \"\n",
      "C:\\Users\\gkrishnamurthy\\Anaconda3\\lib\\site-packages\\sklearn\\covariance\\_robust_covariance.py:166: RuntimeWarning: Determinant has increased; this should not happen: log(det) > log(previous_det) (-48.588090860494539 > -73.997089087121466). You may want to try with a higher value of support_fraction (current value: 0.503).\n",
      "  warnings.warn(\"Determinant has increased; this should not happen: \"\n",
      "C:\\Users\\gkrishnamurthy\\Anaconda3\\lib\\site-packages\\sklearn\\covariance\\_robust_covariance.py:166: RuntimeWarning: Determinant has increased; this should not happen: log(det) > log(previous_det) (-50.127165967938033 > -76.814431864511533). You may want to try with a higher value of support_fraction (current value: 0.501).\n",
      "  warnings.warn(\"Determinant has increased; this should not happen: \"\n",
      "C:\\Users\\gkrishnamurthy\\Anaconda3\\lib\\site-packages\\sklearn\\covariance\\_robust_covariance.py:166: RuntimeWarning: Determinant has increased; this should not happen: log(det) > log(previous_det) (-50.260339163313560 > -77.183008377260506). You may want to try with a higher value of support_fraction (current value: 0.501).\n",
      "  warnings.warn(\"Determinant has increased; this should not happen: \"\n",
      "C:\\Users\\gkrishnamurthy\\Anaconda3\\lib\\site-packages\\sklearn\\covariance\\_robust_covariance.py:166: RuntimeWarning: Determinant has increased; this should not happen: log(det) > log(previous_det) (-50.088727288180451 > -75.865165747812611). You may want to try with a higher value of support_fraction (current value: 0.501).\n",
      "  warnings.warn(\"Determinant has increased; this should not happen: \"\n",
      "C:\\Users\\gkrishnamurthy\\Anaconda3\\lib\\site-packages\\sklearn\\covariance\\_robust_covariance.py:166: RuntimeWarning: Determinant has increased; this should not happen: log(det) > log(previous_det) (-50.582785491594258 > -76.611820576922298). You may want to try with a higher value of support_fraction (current value: 0.501).\n",
      "  warnings.warn(\"Determinant has increased; this should not happen: \"\n",
      "C:\\Users\\gkrishnamurthy\\Anaconda3\\lib\\site-packages\\sklearn\\covariance\\_robust_covariance.py:166: RuntimeWarning: Determinant has increased; this should not happen: log(det) > log(previous_det) (-50.000544286938101 > -76.202702178617812). You may want to try with a higher value of support_fraction (current value: 0.501).\n",
      "  warnings.warn(\"Determinant has increased; this should not happen: \"\n",
      "C:\\Users\\gkrishnamurthy\\Anaconda3\\lib\\site-packages\\sklearn\\covariance\\_robust_covariance.py:166: RuntimeWarning: Determinant has increased; this should not happen: log(det) > log(previous_det) (-50.556584528453953 > -77.098667780846995). You may want to try with a higher value of support_fraction (current value: 0.501).\n",
      "  warnings.warn(\"Determinant has increased; this should not happen: \"\n",
      "C:\\Users\\gkrishnamurthy\\Anaconda3\\lib\\site-packages\\sklearn\\covariance\\_robust_covariance.py:166: RuntimeWarning: Determinant has increased; this should not happen: log(det) > log(previous_det) (-50.240104267009002 > -75.051128375205053). You may want to try with a higher value of support_fraction (current value: 0.501).\n",
      "  warnings.warn(\"Determinant has increased; this should not happen: \"\n",
      "C:\\Users\\gkrishnamurthy\\Anaconda3\\lib\\site-packages\\sklearn\\covariance\\_robust_covariance.py:166: RuntimeWarning: Determinant has increased; this should not happen: log(det) > log(previous_det) (-49.250211305123095 > -75.269917048873594). You may want to try with a higher value of support_fraction (current value: 0.501).\n",
      "  warnings.warn(\"Determinant has increased; this should not happen: \"\n",
      "C:\\Users\\gkrishnamurthy\\Anaconda3\\lib\\site-packages\\sklearn\\covariance\\_robust_covariance.py:166: RuntimeWarning: Determinant has increased; this should not happen: log(det) > log(previous_det) (-49.909548626708364 > -77.316510535945554). You may want to try with a higher value of support_fraction (current value: 0.501).\n",
      "  warnings.warn(\"Determinant has increased; this should not happen: \"\n",
      "C:\\Users\\gkrishnamurthy\\Anaconda3\\lib\\site-packages\\sklearn\\covariance\\_robust_covariance.py:166: RuntimeWarning: Determinant has increased; this should not happen: log(det) > log(previous_det) (-50.891326544720059 > -75.752323826887846). You may want to try with a higher value of support_fraction (current value: 0.501).\n",
      "  warnings.warn(\"Determinant has increased; this should not happen: \"\n",
      "C:\\Users\\gkrishnamurthy\\Anaconda3\\lib\\site-packages\\sklearn\\covariance\\_robust_covariance.py:166: RuntimeWarning: Determinant has increased; this should not happen: log(det) > log(previous_det) (-49.859327893628439 > -75.506059781784089). You may want to try with a higher value of support_fraction (current value: 0.501).\n",
      "  warnings.warn(\"Determinant has increased; this should not happen: \"\n",
      "C:\\Users\\gkrishnamurthy\\Anaconda3\\lib\\site-packages\\sklearn\\covariance\\_robust_covariance.py:166: RuntimeWarning: Determinant has increased; this should not happen: log(det) > log(previous_det) (-49.586488761882819 > -75.469733773072221). You may want to try with a higher value of support_fraction (current value: 0.501).\n",
      "  warnings.warn(\"Determinant has increased; this should not happen: \"\n",
      "C:\\Users\\gkrishnamurthy\\Anaconda3\\lib\\site-packages\\sklearn\\covariance\\_robust_covariance.py:166: RuntimeWarning: Determinant has increased; this should not happen: log(det) > log(previous_det) (-50.101075588075524 > -76.262519209035275). You may want to try with a higher value of support_fraction (current value: 0.501).\n",
      "  warnings.warn(\"Determinant has increased; this should not happen: \"\n",
      "C:\\Users\\gkrishnamurthy\\Anaconda3\\lib\\site-packages\\sklearn\\covariance\\_robust_covariance.py:166: RuntimeWarning: Determinant has increased; this should not happen: log(det) > log(previous_det) (-50.312636661667774 > -76.827897355973249). You may want to try with a higher value of support_fraction (current value: 0.501).\n",
      "  warnings.warn(\"Determinant has increased; this should not happen: \"\n",
      "C:\\Users\\gkrishnamurthy\\Anaconda3\\lib\\site-packages\\sklearn\\covariance\\_robust_covariance.py:166: RuntimeWarning: Determinant has increased; this should not happen: log(det) > log(previous_det) (-50.250066970764166 > -78.448260993170479). You may want to try with a higher value of support_fraction (current value: 0.501).\n",
      "  warnings.warn(\"Determinant has increased; this should not happen: \"\n",
      "C:\\Users\\gkrishnamurthy\\Anaconda3\\lib\\site-packages\\sklearn\\covariance\\_robust_covariance.py:166: RuntimeWarning: Determinant has increased; this should not happen: log(det) > log(previous_det) (-49.555505358476601 > -76.383177602584297). You may want to try with a higher value of support_fraction (current value: 0.501).\n",
      "  warnings.warn(\"Determinant has increased; this should not happen: \"\n",
      "C:\\Users\\gkrishnamurthy\\Anaconda3\\lib\\site-packages\\sklearn\\covariance\\_robust_covariance.py:166: RuntimeWarning: Determinant has increased; this should not happen: log(det) > log(previous_det) (-49.428222337190036 > -77.657757837885939). You may want to try with a higher value of support_fraction (current value: 0.501).\n",
      "  warnings.warn(\"Determinant has increased; this should not happen: \"\n",
      "C:\\Users\\gkrishnamurthy\\Anaconda3\\lib\\site-packages\\sklearn\\covariance\\_robust_covariance.py:166: RuntimeWarning: Determinant has increased; this should not happen: log(det) > log(previous_det) (-50.312868452035886 > -78.275586981066255). You may want to try with a higher value of support_fraction (current value: 0.501).\n",
      "  warnings.warn(\"Determinant has increased; this should not happen: \"\n"
     ]
    },
    {
     "name": "stderr",
     "output_type": "stream",
     "text": [
      "C:\\Users\\gkrishnamurthy\\Anaconda3\\lib\\site-packages\\sklearn\\covariance\\_robust_covariance.py:166: RuntimeWarning: Determinant has increased; this should not happen: log(det) > log(previous_det) (-50.764724066883446 > -77.282352110428548). You may want to try with a higher value of support_fraction (current value: 0.501).\n",
      "  warnings.warn(\"Determinant has increased; this should not happen: \"\n",
      "C:\\Users\\gkrishnamurthy\\Anaconda3\\lib\\site-packages\\sklearn\\covariance\\_robust_covariance.py:166: RuntimeWarning: Determinant has increased; this should not happen: log(det) > log(previous_det) (-49.672481809425953 > -75.780064170775518). You may want to try with a higher value of support_fraction (current value: 0.501).\n",
      "  warnings.warn(\"Determinant has increased; this should not happen: \"\n",
      "C:\\Users\\gkrishnamurthy\\Anaconda3\\lib\\site-packages\\sklearn\\covariance\\_robust_covariance.py:166: RuntimeWarning: Determinant has increased; this should not happen: log(det) > log(previous_det) (-48.810409699568289 > -116.332661175263610). You may want to try with a higher value of support_fraction (current value: 0.501).\n",
      "  warnings.warn(\"Determinant has increased; this should not happen: \"\n",
      "C:\\Users\\gkrishnamurthy\\Anaconda3\\lib\\site-packages\\sklearn\\covariance\\_robust_covariance.py:166: RuntimeWarning: Determinant has increased; this should not happen: log(det) > log(previous_det) (-50.246740593074648 > -75.373826826201935). You may want to try with a higher value of support_fraction (current value: 0.501).\n",
      "  warnings.warn(\"Determinant has increased; this should not happen: \"\n",
      "C:\\Users\\gkrishnamurthy\\Anaconda3\\lib\\site-packages\\sklearn\\covariance\\_robust_covariance.py:166: RuntimeWarning: Determinant has increased; this should not happen: log(det) > log(previous_det) (-50.256978425484292 > -76.476983289741440). You may want to try with a higher value of support_fraction (current value: 0.501).\n",
      "  warnings.warn(\"Determinant has increased; this should not happen: \"\n",
      "C:\\Users\\gkrishnamurthy\\Anaconda3\\lib\\site-packages\\sklearn\\covariance\\_robust_covariance.py:166: RuntimeWarning: Determinant has increased; this should not happen: log(det) > log(previous_det) (-50.288199308055468 > -75.990589261846011). You may want to try with a higher value of support_fraction (current value: 0.501).\n",
      "  warnings.warn(\"Determinant has increased; this should not happen: \"\n",
      "C:\\Users\\gkrishnamurthy\\Anaconda3\\lib\\site-packages\\sklearn\\covariance\\_robust_covariance.py:166: RuntimeWarning: Determinant has increased; this should not happen: log(det) > log(previous_det) (-50.329968951469141 > -77.419260242705974). You may want to try with a higher value of support_fraction (current value: 0.501).\n",
      "  warnings.warn(\"Determinant has increased; this should not happen: \"\n",
      "C:\\Users\\gkrishnamurthy\\Anaconda3\\lib\\site-packages\\sklearn\\covariance\\_robust_covariance.py:166: RuntimeWarning: Determinant has increased; this should not happen: log(det) > log(previous_det) (-50.221834205302052 > -78.090864446968652). You may want to try with a higher value of support_fraction (current value: 0.501).\n",
      "  warnings.warn(\"Determinant has increased; this should not happen: \"\n",
      "C:\\Users\\gkrishnamurthy\\Anaconda3\\lib\\site-packages\\sklearn\\covariance\\_robust_covariance.py:166: RuntimeWarning: Determinant has increased; this should not happen: log(det) > log(previous_det) (-49.289029393101089 > -75.757556561107862). You may want to try with a higher value of support_fraction (current value: 0.501).\n",
      "  warnings.warn(\"Determinant has increased; this should not happen: \"\n",
      "C:\\Users\\gkrishnamurthy\\Anaconda3\\lib\\site-packages\\sklearn\\covariance\\_robust_covariance.py:166: RuntimeWarning: Determinant has increased; this should not happen: log(det) > log(previous_det) (-49.385618505522793 > -77.171277510572310). You may want to try with a higher value of support_fraction (current value: 0.501).\n",
      "  warnings.warn(\"Determinant has increased; this should not happen: \"\n",
      "C:\\Users\\gkrishnamurthy\\Anaconda3\\lib\\site-packages\\sklearn\\covariance\\_robust_covariance.py:166: RuntimeWarning: Determinant has increased; this should not happen: log(det) > log(previous_det) (-50.209250265997660 > -76.818840276676667). You may want to try with a higher value of support_fraction (current value: 0.501).\n",
      "  warnings.warn(\"Determinant has increased; this should not happen: \"\n",
      "C:\\Users\\gkrishnamurthy\\Anaconda3\\lib\\site-packages\\sklearn\\covariance\\_robust_covariance.py:166: RuntimeWarning: Determinant has increased; this should not happen: log(det) > log(previous_det) (-50.362224422506152 > -76.716480514242747). You may want to try with a higher value of support_fraction (current value: 0.501).\n",
      "  warnings.warn(\"Determinant has increased; this should not happen: \"\n",
      "C:\\Users\\gkrishnamurthy\\Anaconda3\\lib\\site-packages\\sklearn\\covariance\\_robust_covariance.py:166: RuntimeWarning: Determinant has increased; this should not happen: log(det) > log(previous_det) (-50.173137659451463 > -75.808458672225186). You may want to try with a higher value of support_fraction (current value: 0.501).\n",
      "  warnings.warn(\"Determinant has increased; this should not happen: \"\n",
      "C:\\Users\\gkrishnamurthy\\Anaconda3\\lib\\site-packages\\sklearn\\covariance\\_robust_covariance.py:166: RuntimeWarning: Determinant has increased; this should not happen: log(det) > log(previous_det) (-50.294483190145293 > -76.390291443926770). You may want to try with a higher value of support_fraction (current value: 0.501).\n",
      "  warnings.warn(\"Determinant has increased; this should not happen: \"\n",
      "C:\\Users\\gkrishnamurthy\\Anaconda3\\lib\\site-packages\\sklearn\\covariance\\_robust_covariance.py:166: RuntimeWarning: Determinant has increased; this should not happen: log(det) > log(previous_det) (-50.208972773367584 > -75.741530995676783). You may want to try with a higher value of support_fraction (current value: 0.501).\n",
      "  warnings.warn(\"Determinant has increased; this should not happen: \"\n",
      "C:\\Users\\gkrishnamurthy\\Anaconda3\\lib\\site-packages\\sklearn\\covariance\\_robust_covariance.py:166: RuntimeWarning: Determinant has increased; this should not happen: log(det) > log(previous_det) (-50.378081918546030 > -76.605948395137275). You may want to try with a higher value of support_fraction (current value: 0.501).\n",
      "  warnings.warn(\"Determinant has increased; this should not happen: \"\n",
      "C:\\Users\\gkrishnamurthy\\Anaconda3\\lib\\site-packages\\sklearn\\covariance\\_robust_covariance.py:166: RuntimeWarning: Determinant has increased; this should not happen: log(det) > log(previous_det) (-50.916820128958108 > -76.552623764140179). You may want to try with a higher value of support_fraction (current value: 0.501).\n",
      "  warnings.warn(\"Determinant has increased; this should not happen: \"\n",
      "C:\\Users\\gkrishnamurthy\\Anaconda3\\lib\\site-packages\\sklearn\\covariance\\_robust_covariance.py:166: RuntimeWarning: Determinant has increased; this should not happen: log(det) > log(previous_det) (-50.077545968806284 > -75.696921172394283). You may want to try with a higher value of support_fraction (current value: 0.501).\n",
      "  warnings.warn(\"Determinant has increased; this should not happen: \"\n",
      "C:\\Users\\gkrishnamurthy\\Anaconda3\\lib\\site-packages\\sklearn\\covariance\\_robust_covariance.py:166: RuntimeWarning: Determinant has increased; this should not happen: log(det) > log(previous_det) (-50.436632051329951 > -76.438541656063492). You may want to try with a higher value of support_fraction (current value: 0.501).\n",
      "  warnings.warn(\"Determinant has increased; this should not happen: \"\n",
      "C:\\Users\\gkrishnamurthy\\Anaconda3\\lib\\site-packages\\sklearn\\covariance\\_robust_covariance.py:166: RuntimeWarning: Determinant has increased; this should not happen: log(det) > log(previous_det) (-50.734734341696203 > -76.521728710156154). You may want to try with a higher value of support_fraction (current value: 0.501).\n",
      "  warnings.warn(\"Determinant has increased; this should not happen: \"\n",
      "C:\\Users\\gkrishnamurthy\\Anaconda3\\lib\\site-packages\\sklearn\\covariance\\_robust_covariance.py:166: RuntimeWarning: Determinant has increased; this should not happen: log(det) > log(previous_det) (-51.027942813065295 > -77.260538598709132). You may want to try with a higher value of support_fraction (current value: 0.501).\n",
      "  warnings.warn(\"Determinant has increased; this should not happen: \"\n"
     ]
    },
    {
     "name": "stderr",
     "output_type": "stream",
     "text": [
      "C:\\Users\\gkrishnamurthy\\Anaconda3\\lib\\site-packages\\sklearn\\covariance\\_robust_covariance.py:166: RuntimeWarning: Determinant has increased; this should not happen: log(det) > log(previous_det) (-51.132819510101456 > -80.575229534353539). You may want to try with a higher value of support_fraction (current value: 0.501).\n",
      "  warnings.warn(\"Determinant has increased; this should not happen: \"\n",
      "C:\\Users\\gkrishnamurthy\\Anaconda3\\lib\\site-packages\\sklearn\\covariance\\_robust_covariance.py:166: RuntimeWarning: Determinant has increased; this should not happen: log(det) > log(previous_det) (-50.826679532509623 > -77.642101236679707). You may want to try with a higher value of support_fraction (current value: 0.501).\n",
      "  warnings.warn(\"Determinant has increased; this should not happen: \"\n"
     ]
    },
    {
     "name": "stdout",
     "output_type": "stream",
     "text": [
      "Minimum Covariance Determinant (MCD) ROC:0.9903, precision @ rank n:0.7534, execution time: 44.7114s\n",
      "One-class SVM (OCSVM) ROC:0.9922, precision @ rank n:0.9553, execution time: 9236.2039s\n",
      "Principal Component Analysis (PCA) ROC:0.9902, precision @ rank n:0.9503, execution time: 0.0904s\n",
      "\n",
      "... Processing vertebral.mat ...\n",
      "Angle-based Outlier Detector (ABOD) ROC:0.2797, precision @ rank n:0.0, execution time: 0.1545s\n",
      "Cluster-based Local Outlier Factor ROC:0.3908, precision @ rank n:0.0, execution time: 0.135s\n"
     ]
    },
    {
     "name": "stderr",
     "output_type": "stream",
     "text": [
      "C:\\Users\\gkrishnamurthy\\Anaconda3\\lib\\site-packages\\sklearn\\cluster\\_kmeans.py:973: FutureWarning: 'n_jobs' was deprecated in version 0.23 and will be removed in 0.25.\n",
      "  warnings.warn(\"'n_jobs' was deprecated in version 0.23 and will be\"\n"
     ]
    },
    {
     "name": "stdout",
     "output_type": "stream",
     "text": [
      "Feature Bagging ROC:0.3027, precision @ rank n:0.0, execution time: 0.0815s\n",
      "Histogram-base Outlier Detection (HBOS) ROC:0.2695, precision @ rank n:0.0, execution time: 0.0048s\n",
      "Isolation Forest ROC:0.3576, precision @ rank n:0.0, execution time: 0.9592s\n",
      "K Nearest Neighbors (KNN) ROC:0.318, precision @ rank n:0.0, execution time: 0.0274s\n",
      "Local Outlier Factor (LOF) ROC:0.318, precision @ rank n:0.0, execution time: 0.0068s\n",
      "Minimum Covariance Determinant (MCD) ROC:0.3308, precision @ rank n:0.0, execution time: 0.1372s\n",
      "One-class SVM (OCSVM) ROC:0.4087, precision @ rank n:0.0, execution time: 0.0031s\n",
      "Principal Component Analysis (PCA) ROC:0.3397, precision @ rank n:0.0, execution time: 0.004s\n",
      "\n",
      "... Processing vowels.mat ...\n",
      "Angle-based Outlier Detector (ABOD) ROC:0.9521, precision @ rank n:0.4706, execution time: 0.9724s\n",
      "Cluster-based Local Outlier Factor ROC:0.9278, precision @ rank n:0.4118, execution time: 0.1878s"
     ]
    },
    {
     "name": "stderr",
     "output_type": "stream",
     "text": [
      "C:\\Users\\gkrishnamurthy\\Anaconda3\\lib\\site-packages\\sklearn\\cluster\\_kmeans.py:973: FutureWarning: 'n_jobs' was deprecated in version 0.23 and will be removed in 0.25.\n",
      "  warnings.warn(\"'n_jobs' was deprecated in version 0.23 and will be\"\n"
     ]
    },
    {
     "name": "stdout",
     "output_type": "stream",
     "text": [
      "\n",
      "Feature Bagging ROC:0.9385, precision @ rank n:0.3529, execution time: 0.6633s\n",
      "Histogram-base Outlier Detection (HBOS) ROC:0.6758, precision @ rank n:0.1765, execution time: 0.008s\n",
      "Isolation Forest ROC:0.7469, precision @ rank n:0.1176, execution time: 0.808s\n",
      "K Nearest Neighbors (KNN) ROC:0.9568, precision @ rank n:0.5294, execution time: 0.0976s\n",
      "Local Outlier Factor (LOF) ROC:0.9345, precision @ rank n:0.4118, execution time: 0.0389s\n",
      "Minimum Covariance Determinant (MCD) ROC:0.6779, precision @ rank n:0.0, execution time: 0.9834s\n",
      "One-class SVM (OCSVM) ROC:0.7415, precision @ rank n:0.2941, execution time: 0.0513s\n",
      "Principal Component Analysis (PCA) ROC:0.5787, precision @ rank n:0.1176, execution time: 0.0042s\n",
      "\n",
      "... Processing wbc.mat ...\n",
      "Angle-based Outlier Detector (ABOD) ROC:0.9232, precision @ rank n:0.3, execution time: 0.1506s\n",
      "Cluster-based Local Outlier Factor ROC:0.9063, precision @ rank n:0.6, execution time: 0.1049s\n"
     ]
    },
    {
     "name": "stderr",
     "output_type": "stream",
     "text": [
      "C:\\Users\\gkrishnamurthy\\Anaconda3\\lib\\site-packages\\sklearn\\cluster\\_kmeans.py:973: FutureWarning: 'n_jobs' was deprecated in version 0.23 and will be removed in 0.25.\n",
      "  warnings.warn(\"'n_jobs' was deprecated in version 0.23 and will be\"\n"
     ]
    },
    {
     "name": "stdout",
     "output_type": "stream",
     "text": [
      "Feature Bagging ROC:0.9415, precision @ rank n:0.5, execution time: 0.1222s\n",
      "Histogram-base Outlier Detection (HBOS) ROC:0.9592, precision @ rank n:0.7, execution time: 0.0138s\n",
      "Isolation Forest ROC:0.9451, precision @ rank n:0.5, execution time: 0.6482s\n",
      "K Nearest Neighbors (KNN) ROC:0.9437, precision @ rank n:0.5, execution time: 0.0302s\n",
      "Local Outlier Factor (LOF) ROC:0.9352, precision @ rank n:0.4, execution time: 0.0108s\n",
      "Minimum Covariance Determinant (MCD) ROC:0.8986, precision @ rank n:0.4, execution time: 0.0841s\n",
      "One-class SVM (OCSVM) ROC:0.9408, precision @ rank n:0.5, execution time: 0.0112s\n",
      "Principal Component Analysis (PCA) ROC:0.9324, precision @ rank n:0.6, execution time: 0.01s\n"
     ]
    }
   ],
   "source": [
    "from time import time\n",
    "random_state = np.random.RandomState(42)\n",
    "\n",
    "for mat_file in mat_file_list:\n",
    "    print(\"\\n... Processing\", mat_file, '...')\n",
    "    mat = loadmat(os.path.join('../data', mat_file))\n",
    "\n",
    "    X = mat['X']\n",
    "    y = mat['y'].ravel()\n",
    "    outliers_fraction = np.count_nonzero(y) / len(y)\n",
    "    outliers_percentage = round(outliers_fraction * 100, ndigits=4)\n",
    "\n",
    "    # construct containers for saving results\n",
    "    roc_list = [mat_file[:-4], X.shape[0], X.shape[1], outliers_percentage]\n",
    "    prn_list = [mat_file[:-4], X.shape[0], X.shape[1], outliers_percentage]\n",
    "    time_list = [mat_file[:-4], X.shape[0], X.shape[1], outliers_percentage]\n",
    "\n",
    "    # 60% data for training and 40% for testing\n",
    "    X_train, X_test, y_train, y_test = train_test_split(X, y, test_size=0.4,\n",
    "                                                        random_state=random_state)\n",
    "\n",
    "    # standardizing data for processing\n",
    "    X_train_norm, X_test_norm = standardizer(X_train, X_test)\n",
    "\n",
    "    classifiers = {'Angle-based Outlier Detector (ABOD)': ABOD(\n",
    "        contamination=outliers_fraction),\n",
    "        'Cluster-based Local Outlier Factor': CBLOF(\n",
    "            contamination=outliers_fraction, check_estimator=False,\n",
    "            random_state=random_state),\n",
    "        'Feature Bagging': FeatureBagging(contamination=outliers_fraction,\n",
    "                                          random_state=random_state),\n",
    "        'Histogram-base Outlier Detection (HBOS)': HBOS(\n",
    "            contamination=outliers_fraction),\n",
    "        'Isolation Forest': IForest(contamination=outliers_fraction,\n",
    "                                    random_state=random_state),\n",
    "        'K Nearest Neighbors (KNN)': KNN(contamination=outliers_fraction),\n",
    "        'Local Outlier Factor (LOF)': LOF(\n",
    "            contamination=outliers_fraction),\n",
    "        'Minimum Covariance Determinant (MCD)': MCD(\n",
    "            contamination=outliers_fraction, random_state=random_state),\n",
    "        'One-class SVM (OCSVM)': OCSVM(contamination=outliers_fraction),\n",
    "        'Principal Component Analysis (PCA)': PCA(\n",
    "            contamination=outliers_fraction, random_state=random_state),\n",
    "    }\n",
    "\n",
    "    for clf_name, clf in classifiers.items():\n",
    "        t0 = time()\n",
    "        clf.fit(X_train_norm)\n",
    "        test_scores = clf.decision_function(X_test_norm)\n",
    "        t1 = time()\n",
    "        duration = round(t1 - t0, ndigits=4)\n",
    "        time_list.append(duration)\n",
    "\n",
    "        roc = round(roc_auc_score(y_test, test_scores), ndigits=4)\n",
    "        prn = round(precision_n_scores(y_test, test_scores), ndigits=4)\n",
    "\n",
    "        print('{clf_name} ROC:{roc}, precision @ rank n:{prn}, '\n",
    "              'execution time: {duration}s'.format(\n",
    "            clf_name=clf_name, roc=roc, prn=prn, duration=duration))\n",
    "\n",
    "        roc_list.append(roc)\n",
    "        prn_list.append(prn)\n",
    "\n",
    "    temp_df = pd.DataFrame(time_list).transpose()\n",
    "    temp_df.columns = df_columns\n",
    "    time_df = pd.concat([time_df, temp_df], axis=0)\n",
    "\n",
    "    temp_df = pd.DataFrame(roc_list).transpose()\n",
    "    temp_df.columns = df_columns\n",
    "    roc_df = pd.concat([roc_df, temp_df], axis=0)\n",
    "\n",
    "    temp_df = pd.DataFrame(prn_list).transpose()\n",
    "    temp_df.columns = df_columns\n",
    "    prn_df = pd.concat([prn_df, temp_df], axis=0)"
   ]
  },
  {
   "cell_type": "code",
   "execution_count": 22,
   "metadata": {
    "ExecuteTime": {
     "end_time": "2020-10-23T00:51:37.896747Z",
     "start_time": "2020-10-23T00:51:37.861804Z"
    }
   },
   "outputs": [
    {
     "data": {
      "text/html": [
       "<div>\n",
       "<style scoped>\n",
       "    .dataframe tbody tr th:only-of-type {\n",
       "        vertical-align: middle;\n",
       "    }\n",
       "\n",
       "    .dataframe tbody tr th {\n",
       "        vertical-align: top;\n",
       "    }\n",
       "\n",
       "    .dataframe thead th {\n",
       "        text-align: right;\n",
       "    }\n",
       "</style>\n",
       "<table border=\"1\" class=\"dataframe\">\n",
       "  <thead>\n",
       "    <tr style=\"text-align: right;\">\n",
       "      <th></th>\n",
       "      <th>Data</th>\n",
       "      <th>#Samples</th>\n",
       "      <th># Dimensions</th>\n",
       "      <th>Outlier Perc</th>\n",
       "      <th>ABOD</th>\n",
       "      <th>CBLOF</th>\n",
       "      <th>FB</th>\n",
       "      <th>HBOS</th>\n",
       "      <th>IForest</th>\n",
       "      <th>KNN</th>\n",
       "      <th>LOF</th>\n",
       "      <th>MCD</th>\n",
       "      <th>OCSVM</th>\n",
       "      <th>PCA</th>\n",
       "    </tr>\n",
       "  </thead>\n",
       "  <tbody>\n",
       "    <tr>\n",
       "      <th>0</th>\n",
       "      <td>arrhythmia</td>\n",
       "      <td>452</td>\n",
       "      <td>274</td>\n",
       "      <td>14.6018</td>\n",
       "      <td>0.7687</td>\n",
       "      <td>0.7684</td>\n",
       "      <td>0.7799</td>\n",
       "      <td>0.8511</td>\n",
       "      <td>0.8478</td>\n",
       "      <td>0.782</td>\n",
       "      <td>0.7787</td>\n",
       "      <td>0.8228</td>\n",
       "      <td>0.7986</td>\n",
       "      <td>0.7997</td>\n",
       "    </tr>\n",
       "    <tr>\n",
       "      <th>0</th>\n",
       "      <td>cardio</td>\n",
       "      <td>1831</td>\n",
       "      <td>21</td>\n",
       "      <td>9.6122</td>\n",
       "      <td>0.5763</td>\n",
       "      <td>0.8221</td>\n",
       "      <td>0.4879</td>\n",
       "      <td>0.8453</td>\n",
       "      <td>0.9316</td>\n",
       "      <td>0.6959</td>\n",
       "      <td>0.4715</td>\n",
       "      <td>0.8778</td>\n",
       "      <td>0.9507</td>\n",
       "      <td>0.9638</td>\n",
       "    </tr>\n",
       "    <tr>\n",
       "      <th>0</th>\n",
       "      <td>glass</td>\n",
       "      <td>214</td>\n",
       "      <td>9</td>\n",
       "      <td>4.2056</td>\n",
       "      <td>0.7104</td>\n",
       "      <td>0.8506</td>\n",
       "      <td>0.7043</td>\n",
       "      <td>0.6524</td>\n",
       "      <td>0.7195</td>\n",
       "      <td>0.7805</td>\n",
       "      <td>0.7774</td>\n",
       "      <td>0.7165</td>\n",
       "      <td>0.6189</td>\n",
       "      <td>0.622</td>\n",
       "    </tr>\n",
       "    <tr>\n",
       "      <th>0</th>\n",
       "      <td>ionosphere</td>\n",
       "      <td>351</td>\n",
       "      <td>33</td>\n",
       "      <td>35.8974</td>\n",
       "      <td>0.9004</td>\n",
       "      <td>0.8952</td>\n",
       "      <td>0.8933</td>\n",
       "      <td>0.5195</td>\n",
       "      <td>0.8294</td>\n",
       "      <td>0.9134</td>\n",
       "      <td>0.8989</td>\n",
       "      <td>0.9399</td>\n",
       "      <td>0.8372</td>\n",
       "      <td>0.7971</td>\n",
       "    </tr>\n",
       "    <tr>\n",
       "      <th>0</th>\n",
       "      <td>letter</td>\n",
       "      <td>1600</td>\n",
       "      <td>32</td>\n",
       "      <td>6.25</td>\n",
       "      <td>0.8465</td>\n",
       "      <td>0.7423</td>\n",
       "      <td>0.866</td>\n",
       "      <td>0.5728</td>\n",
       "      <td>0.5836</td>\n",
       "      <td>0.845</td>\n",
       "      <td>0.8409</td>\n",
       "      <td>0.7499</td>\n",
       "      <td>0.5744</td>\n",
       "      <td>0.48</td>\n",
       "    </tr>\n",
       "    <tr>\n",
       "      <th>0</th>\n",
       "      <td>lympho</td>\n",
       "      <td>148</td>\n",
       "      <td>18</td>\n",
       "      <td>4.0541</td>\n",
       "      <td>0.9382</td>\n",
       "      <td>0.9709</td>\n",
       "      <td>0.9673</td>\n",
       "      <td>0.9964</td>\n",
       "      <td>0.9855</td>\n",
       "      <td>0.9636</td>\n",
       "      <td>0.9636</td>\n",
       "      <td>0.9164</td>\n",
       "      <td>0.9636</td>\n",
       "      <td>0.9818</td>\n",
       "    </tr>\n",
       "    <tr>\n",
       "      <th>0</th>\n",
       "      <td>mnist</td>\n",
       "      <td>7603</td>\n",
       "      <td>100</td>\n",
       "      <td>9.2069</td>\n",
       "      <td>0.7813</td>\n",
       "      <td>0.8447</td>\n",
       "      <td>0.7259</td>\n",
       "      <td>0.5675</td>\n",
       "      <td>0.7813</td>\n",
       "      <td>0.8409</td>\n",
       "      <td>0.7085</td>\n",
       "      <td>0.863</td>\n",
       "      <td>0.8417</td>\n",
       "      <td>0.8396</td>\n",
       "    </tr>\n",
       "    <tr>\n",
       "      <th>0</th>\n",
       "      <td>musk</td>\n",
       "      <td>3062</td>\n",
       "      <td>166</td>\n",
       "      <td>3.1679</td>\n",
       "      <td>0.0809</td>\n",
       "      <td>1</td>\n",
       "      <td>0.5228</td>\n",
       "      <td>0.9999</td>\n",
       "      <td>0.9992</td>\n",
       "      <td>0.7348</td>\n",
       "      <td>0.5323</td>\n",
       "      <td>1</td>\n",
       "      <td>1</td>\n",
       "      <td>1</td>\n",
       "    </tr>\n",
       "    <tr>\n",
       "      <th>0</th>\n",
       "      <td>optdigits</td>\n",
       "      <td>5216</td>\n",
       "      <td>64</td>\n",
       "      <td>2.8758</td>\n",
       "      <td>0.4428</td>\n",
       "      <td>0.7852</td>\n",
       "      <td>0.4641</td>\n",
       "      <td>0.8822</td>\n",
       "      <td>0.5442</td>\n",
       "      <td>0.3824</td>\n",
       "      <td>0.4584</td>\n",
       "      <td>0.3486</td>\n",
       "      <td>0.4972</td>\n",
       "      <td>0.504</td>\n",
       "    </tr>\n",
       "    <tr>\n",
       "      <th>0</th>\n",
       "      <td>pendigits</td>\n",
       "      <td>6870</td>\n",
       "      <td>16</td>\n",
       "      <td>2.2707</td>\n",
       "      <td>0.7008</td>\n",
       "      <td>0.9609</td>\n",
       "      <td>0.4687</td>\n",
       "      <td>0.9294</td>\n",
       "      <td>0.9482</td>\n",
       "      <td>0.7602</td>\n",
       "      <td>0.481</td>\n",
       "      <td>0.8271</td>\n",
       "      <td>0.93</td>\n",
       "      <td>0.9332</td>\n",
       "    </tr>\n",
       "    <tr>\n",
       "      <th>0</th>\n",
       "      <td>pima</td>\n",
       "      <td>768</td>\n",
       "      <td>8</td>\n",
       "      <td>34.8958</td>\n",
       "      <td>0.6757</td>\n",
       "      <td>0.684</td>\n",
       "      <td>0.6446</td>\n",
       "      <td>0.7169</td>\n",
       "      <td>0.6777</td>\n",
       "      <td>0.7252</td>\n",
       "      <td>0.6604</td>\n",
       "      <td>0.7047</td>\n",
       "      <td>0.6423</td>\n",
       "      <td>0.6639</td>\n",
       "    </tr>\n",
       "    <tr>\n",
       "      <th>0</th>\n",
       "      <td>satellite</td>\n",
       "      <td>6435</td>\n",
       "      <td>36</td>\n",
       "      <td>31.6395</td>\n",
       "      <td>0.5681</td>\n",
       "      <td>0.7234</td>\n",
       "      <td>0.557</td>\n",
       "      <td>0.7393</td>\n",
       "      <td>0.7094</td>\n",
       "      <td>0.6781</td>\n",
       "      <td>0.5551</td>\n",
       "      <td>0.792</td>\n",
       "      <td>0.636</td>\n",
       "      <td>0.5783</td>\n",
       "    </tr>\n",
       "    <tr>\n",
       "      <th>0</th>\n",
       "      <td>satimage-2</td>\n",
       "      <td>5803</td>\n",
       "      <td>36</td>\n",
       "      <td>1.2235</td>\n",
       "      <td>0.86</td>\n",
       "      <td>0.9987</td>\n",
       "      <td>0.4971</td>\n",
       "      <td>0.9837</td>\n",
       "      <td>0.9973</td>\n",
       "      <td>0.9505</td>\n",
       "      <td>0.5006</td>\n",
       "      <td>0.9946</td>\n",
       "      <td>0.9976</td>\n",
       "      <td>0.9841</td>\n",
       "    </tr>\n",
       "    <tr>\n",
       "      <th>0</th>\n",
       "      <td>shuttle</td>\n",
       "      <td>49097</td>\n",
       "      <td>9</td>\n",
       "      <td>7.1511</td>\n",
       "      <td>0.6186</td>\n",
       "      <td>0.6286</td>\n",
       "      <td>0.5211</td>\n",
       "      <td>0.9851</td>\n",
       "      <td>0.9972</td>\n",
       "      <td>0.645</td>\n",
       "      <td>0.5347</td>\n",
       "      <td>0.9903</td>\n",
       "      <td>0.9922</td>\n",
       "      <td>0.9902</td>\n",
       "    </tr>\n",
       "    <tr>\n",
       "      <th>0</th>\n",
       "      <td>vertebral</td>\n",
       "      <td>240</td>\n",
       "      <td>6</td>\n",
       "      <td>12.5</td>\n",
       "      <td>0.2797</td>\n",
       "      <td>0.3908</td>\n",
       "      <td>0.3027</td>\n",
       "      <td>0.2695</td>\n",
       "      <td>0.3576</td>\n",
       "      <td>0.318</td>\n",
       "      <td>0.318</td>\n",
       "      <td>0.3308</td>\n",
       "      <td>0.4087</td>\n",
       "      <td>0.3397</td>\n",
       "    </tr>\n",
       "    <tr>\n",
       "      <th>0</th>\n",
       "      <td>vowels</td>\n",
       "      <td>1456</td>\n",
       "      <td>12</td>\n",
       "      <td>3.4341</td>\n",
       "      <td>0.9521</td>\n",
       "      <td>0.9278</td>\n",
       "      <td>0.9385</td>\n",
       "      <td>0.6758</td>\n",
       "      <td>0.7469</td>\n",
       "      <td>0.9568</td>\n",
       "      <td>0.9345</td>\n",
       "      <td>0.6779</td>\n",
       "      <td>0.7415</td>\n",
       "      <td>0.5787</td>\n",
       "    </tr>\n",
       "    <tr>\n",
       "      <th>0</th>\n",
       "      <td>wbc</td>\n",
       "      <td>378</td>\n",
       "      <td>30</td>\n",
       "      <td>5.5556</td>\n",
       "      <td>0.9232</td>\n",
       "      <td>0.9063</td>\n",
       "      <td>0.9415</td>\n",
       "      <td>0.9592</td>\n",
       "      <td>0.9451</td>\n",
       "      <td>0.9437</td>\n",
       "      <td>0.9352</td>\n",
       "      <td>0.8986</td>\n",
       "      <td>0.9408</td>\n",
       "      <td>0.9324</td>\n",
       "    </tr>\n",
       "  </tbody>\n",
       "</table>\n",
       "</div>"
      ],
      "text/plain": [
       "         Data #Samples # Dimensions Outlier Perc    ABOD   CBLOF      FB  \\\n",
       "0  arrhythmia      452          274      14.6018  0.7687  0.7684  0.7799   \n",
       "0      cardio     1831           21       9.6122  0.5763  0.8221  0.4879   \n",
       "0       glass      214            9       4.2056  0.7104  0.8506  0.7043   \n",
       "0  ionosphere      351           33      35.8974  0.9004  0.8952  0.8933   \n",
       "0      letter     1600           32         6.25  0.8465  0.7423   0.866   \n",
       "0      lympho      148           18       4.0541  0.9382  0.9709  0.9673   \n",
       "0       mnist     7603          100       9.2069  0.7813  0.8447  0.7259   \n",
       "0        musk     3062          166       3.1679  0.0809       1  0.5228   \n",
       "0   optdigits     5216           64       2.8758  0.4428  0.7852  0.4641   \n",
       "0   pendigits     6870           16       2.2707  0.7008  0.9609  0.4687   \n",
       "0        pima      768            8      34.8958  0.6757   0.684  0.6446   \n",
       "0   satellite     6435           36      31.6395  0.5681  0.7234   0.557   \n",
       "0  satimage-2     5803           36       1.2235    0.86  0.9987  0.4971   \n",
       "0     shuttle    49097            9       7.1511  0.6186  0.6286  0.5211   \n",
       "0   vertebral      240            6         12.5  0.2797  0.3908  0.3027   \n",
       "0      vowels     1456           12       3.4341  0.9521  0.9278  0.9385   \n",
       "0         wbc      378           30       5.5556  0.9232  0.9063  0.9415   \n",
       "\n",
       "     HBOS IForest     KNN     LOF     MCD   OCSVM     PCA  \n",
       "0  0.8511  0.8478   0.782  0.7787  0.8228  0.7986  0.7997  \n",
       "0  0.8453  0.9316  0.6959  0.4715  0.8778  0.9507  0.9638  \n",
       "0  0.6524  0.7195  0.7805  0.7774  0.7165  0.6189   0.622  \n",
       "0  0.5195  0.8294  0.9134  0.8989  0.9399  0.8372  0.7971  \n",
       "0  0.5728  0.5836   0.845  0.8409  0.7499  0.5744    0.48  \n",
       "0  0.9964  0.9855  0.9636  0.9636  0.9164  0.9636  0.9818  \n",
       "0  0.5675  0.7813  0.8409  0.7085   0.863  0.8417  0.8396  \n",
       "0  0.9999  0.9992  0.7348  0.5323       1       1       1  \n",
       "0  0.8822  0.5442  0.3824  0.4584  0.3486  0.4972   0.504  \n",
       "0  0.9294  0.9482  0.7602   0.481  0.8271    0.93  0.9332  \n",
       "0  0.7169  0.6777  0.7252  0.6604  0.7047  0.6423  0.6639  \n",
       "0  0.7393  0.7094  0.6781  0.5551   0.792   0.636  0.5783  \n",
       "0  0.9837  0.9973  0.9505  0.5006  0.9946  0.9976  0.9841  \n",
       "0  0.9851  0.9972   0.645  0.5347  0.9903  0.9922  0.9902  \n",
       "0  0.2695  0.3576   0.318   0.318  0.3308  0.4087  0.3397  \n",
       "0  0.6758  0.7469  0.9568  0.9345  0.6779  0.7415  0.5787  \n",
       "0  0.9592  0.9451  0.9437  0.9352  0.8986  0.9408  0.9324  "
      ]
     },
     "execution_count": 22,
     "metadata": {},
     "output_type": "execute_result"
    }
   ],
   "source": [
    "roc_df"
   ]
  },
  {
   "cell_type": "code",
   "execution_count": 23,
   "metadata": {
    "ExecuteTime": {
     "end_time": "2020-10-23T00:51:37.938488Z",
     "start_time": "2020-10-23T00:51:37.898742Z"
    }
   },
   "outputs": [
    {
     "data": {
      "text/html": [
       "<div>\n",
       "<style scoped>\n",
       "    .dataframe tbody tr th:only-of-type {\n",
       "        vertical-align: middle;\n",
       "    }\n",
       "\n",
       "    .dataframe tbody tr th {\n",
       "        vertical-align: top;\n",
       "    }\n",
       "\n",
       "    .dataframe thead th {\n",
       "        text-align: right;\n",
       "    }\n",
       "</style>\n",
       "<table border=\"1\" class=\"dataframe\">\n",
       "  <thead>\n",
       "    <tr style=\"text-align: right;\">\n",
       "      <th></th>\n",
       "      <th>Data</th>\n",
       "      <th>#Samples</th>\n",
       "      <th># Dimensions</th>\n",
       "      <th>Outlier Perc</th>\n",
       "      <th>ABOD</th>\n",
       "      <th>CBLOF</th>\n",
       "      <th>FB</th>\n",
       "      <th>HBOS</th>\n",
       "      <th>IForest</th>\n",
       "      <th>KNN</th>\n",
       "      <th>LOF</th>\n",
       "      <th>MCD</th>\n",
       "      <th>OCSVM</th>\n",
       "      <th>PCA</th>\n",
       "    </tr>\n",
       "  </thead>\n",
       "  <tbody>\n",
       "    <tr>\n",
       "      <th>0</th>\n",
       "      <td>arrhythmia</td>\n",
       "      <td>452</td>\n",
       "      <td>274</td>\n",
       "      <td>14.6018</td>\n",
       "      <td>0.3571</td>\n",
       "      <td>0.4643</td>\n",
       "      <td>0.5</td>\n",
       "      <td>0.5714</td>\n",
       "      <td>0.5357</td>\n",
       "      <td>0.5</td>\n",
       "      <td>0.4643</td>\n",
       "      <td>0.4286</td>\n",
       "      <td>0.5</td>\n",
       "      <td>0.5</td>\n",
       "    </tr>\n",
       "    <tr>\n",
       "      <th>0</th>\n",
       "      <td>cardio</td>\n",
       "      <td>1831</td>\n",
       "      <td>21</td>\n",
       "      <td>9.6122</td>\n",
       "      <td>0.1875</td>\n",
       "      <td>0.4844</td>\n",
       "      <td>0.1406</td>\n",
       "      <td>0.4688</td>\n",
       "      <td>0.4531</td>\n",
       "      <td>0.2812</td>\n",
       "      <td>0.125</td>\n",
       "      <td>0.3906</td>\n",
       "      <td>0.5938</td>\n",
       "      <td>0.6875</td>\n",
       "    </tr>\n",
       "    <tr>\n",
       "      <th>0</th>\n",
       "      <td>glass</td>\n",
       "      <td>214</td>\n",
       "      <td>9</td>\n",
       "      <td>4.2056</td>\n",
       "      <td>0.25</td>\n",
       "      <td>0.25</td>\n",
       "      <td>0.25</td>\n",
       "      <td>0</td>\n",
       "      <td>0.25</td>\n",
       "      <td>0.25</td>\n",
       "      <td>0.25</td>\n",
       "      <td>0</td>\n",
       "      <td>0.25</td>\n",
       "      <td>0.25</td>\n",
       "    </tr>\n",
       "    <tr>\n",
       "      <th>0</th>\n",
       "      <td>ionosphere</td>\n",
       "      <td>351</td>\n",
       "      <td>33</td>\n",
       "      <td>35.8974</td>\n",
       "      <td>0.8214</td>\n",
       "      <td>0.8036</td>\n",
       "      <td>0.75</td>\n",
       "      <td>0.3393</td>\n",
       "      <td>0.6607</td>\n",
       "      <td>0.8393</td>\n",
       "      <td>0.75</td>\n",
       "      <td>0.8571</td>\n",
       "      <td>0.7143</td>\n",
       "      <td>0.5893</td>\n",
       "    </tr>\n",
       "    <tr>\n",
       "      <th>0</th>\n",
       "      <td>letter</td>\n",
       "      <td>1600</td>\n",
       "      <td>32</td>\n",
       "      <td>6.25</td>\n",
       "      <td>0.275</td>\n",
       "      <td>0.175</td>\n",
       "      <td>0.4</td>\n",
       "      <td>0.125</td>\n",
       "      <td>0.05</td>\n",
       "      <td>0.3</td>\n",
       "      <td>0.325</td>\n",
       "      <td>0.075</td>\n",
       "      <td>0.1</td>\n",
       "      <td>0.05</td>\n",
       "    </tr>\n",
       "    <tr>\n",
       "      <th>0</th>\n",
       "      <td>lympho</td>\n",
       "      <td>148</td>\n",
       "      <td>18</td>\n",
       "      <td>4.0541</td>\n",
       "      <td>0.4</td>\n",
       "      <td>0.6</td>\n",
       "      <td>0.6</td>\n",
       "      <td>0.8</td>\n",
       "      <td>0.6</td>\n",
       "      <td>0.6</td>\n",
       "      <td>0.6</td>\n",
       "      <td>0.6</td>\n",
       "      <td>0.6</td>\n",
       "      <td>0.8</td>\n",
       "    </tr>\n",
       "    <tr>\n",
       "      <th>0</th>\n",
       "      <td>mnist</td>\n",
       "      <td>7603</td>\n",
       "      <td>100</td>\n",
       "      <td>9.2069</td>\n",
       "      <td>0.3562</td>\n",
       "      <td>0.4007</td>\n",
       "      <td>0.3664</td>\n",
       "      <td>0.1199</td>\n",
       "      <td>0.3116</td>\n",
       "      <td>0.4144</td>\n",
       "      <td>0.339</td>\n",
       "      <td>0.3973</td>\n",
       "      <td>0.3801</td>\n",
       "      <td>0.3767</td>\n",
       "    </tr>\n",
       "    <tr>\n",
       "      <th>0</th>\n",
       "      <td>musk</td>\n",
       "      <td>3062</td>\n",
       "      <td>166</td>\n",
       "      <td>3.1679</td>\n",
       "      <td>0.0333</td>\n",
       "      <td>1</td>\n",
       "      <td>0.1667</td>\n",
       "      <td>0.9667</td>\n",
       "      <td>0.9</td>\n",
       "      <td>0.2333</td>\n",
       "      <td>0.1333</td>\n",
       "      <td>0.9667</td>\n",
       "      <td>1</td>\n",
       "      <td>1</td>\n",
       "    </tr>\n",
       "    <tr>\n",
       "      <th>0</th>\n",
       "      <td>optdigits</td>\n",
       "      <td>5216</td>\n",
       "      <td>64</td>\n",
       "      <td>2.8758</td>\n",
       "      <td>0.0161</td>\n",
       "      <td>0</td>\n",
       "      <td>0.0484</td>\n",
       "      <td>0.2581</td>\n",
       "      <td>0.0161</td>\n",
       "      <td>0</td>\n",
       "      <td>0.0484</td>\n",
       "      <td>0</td>\n",
       "      <td>0</td>\n",
       "      <td>0</td>\n",
       "    </tr>\n",
       "    <tr>\n",
       "      <th>0</th>\n",
       "      <td>pendigits</td>\n",
       "      <td>6870</td>\n",
       "      <td>16</td>\n",
       "      <td>2.2707</td>\n",
       "      <td>0.0308</td>\n",
       "      <td>0.3077</td>\n",
       "      <td>0.0462</td>\n",
       "      <td>0.2615</td>\n",
       "      <td>0.2615</td>\n",
       "      <td>0.0462</td>\n",
       "      <td>0.0462</td>\n",
       "      <td>0.0615</td>\n",
       "      <td>0.2923</td>\n",
       "      <td>0.3385</td>\n",
       "    </tr>\n",
       "    <tr>\n",
       "      <th>0</th>\n",
       "      <td>pima</td>\n",
       "      <td>768</td>\n",
       "      <td>8</td>\n",
       "      <td>34.8958</td>\n",
       "      <td>0.5106</td>\n",
       "      <td>0.4681</td>\n",
       "      <td>0.4468</td>\n",
       "      <td>0.5213</td>\n",
       "      <td>0.4787</td>\n",
       "      <td>0.5106</td>\n",
       "      <td>0.4787</td>\n",
       "      <td>0.4787</td>\n",
       "      <td>0.4574</td>\n",
       "      <td>0.5</td>\n",
       "    </tr>\n",
       "    <tr>\n",
       "      <th>0</th>\n",
       "      <td>satellite</td>\n",
       "      <td>6435</td>\n",
       "      <td>36</td>\n",
       "      <td>31.6395</td>\n",
       "      <td>0.3918</td>\n",
       "      <td>0.5574</td>\n",
       "      <td>0.4051</td>\n",
       "      <td>0.5466</td>\n",
       "      <td>0.578</td>\n",
       "      <td>0.4994</td>\n",
       "      <td>0.4051</td>\n",
       "      <td>0.6747</td>\n",
       "      <td>0.5224</td>\n",
       "      <td>0.4559</td>\n",
       "    </tr>\n",
       "    <tr>\n",
       "      <th>0</th>\n",
       "      <td>satimage-2</td>\n",
       "      <td>5803</td>\n",
       "      <td>36</td>\n",
       "      <td>1.2235</td>\n",
       "      <td>0.2593</td>\n",
       "      <td>0.8889</td>\n",
       "      <td>0.0741</td>\n",
       "      <td>0.5926</td>\n",
       "      <td>0.8889</td>\n",
       "      <td>0.3704</td>\n",
       "      <td>0.0741</td>\n",
       "      <td>0.5185</td>\n",
       "      <td>0.9259</td>\n",
       "      <td>0.8519</td>\n",
       "    </tr>\n",
       "    <tr>\n",
       "      <th>0</th>\n",
       "      <td>shuttle</td>\n",
       "      <td>49097</td>\n",
       "      <td>9</td>\n",
       "      <td>7.1511</td>\n",
       "      <td>0.1918</td>\n",
       "      <td>0.2336</td>\n",
       "      <td>0.111</td>\n",
       "      <td>0.9857</td>\n",
       "      <td>0.9337</td>\n",
       "      <td>0.2199</td>\n",
       "      <td>0.1406</td>\n",
       "      <td>0.7534</td>\n",
       "      <td>0.9553</td>\n",
       "      <td>0.9503</td>\n",
       "    </tr>\n",
       "    <tr>\n",
       "      <th>0</th>\n",
       "      <td>vertebral</td>\n",
       "      <td>240</td>\n",
       "      <td>6</td>\n",
       "      <td>12.5</td>\n",
       "      <td>0</td>\n",
       "      <td>0</td>\n",
       "      <td>0</td>\n",
       "      <td>0</td>\n",
       "      <td>0</td>\n",
       "      <td>0</td>\n",
       "      <td>0</td>\n",
       "      <td>0</td>\n",
       "      <td>0</td>\n",
       "      <td>0</td>\n",
       "    </tr>\n",
       "    <tr>\n",
       "      <th>0</th>\n",
       "      <td>vowels</td>\n",
       "      <td>1456</td>\n",
       "      <td>12</td>\n",
       "      <td>3.4341</td>\n",
       "      <td>0.4706</td>\n",
       "      <td>0.4118</td>\n",
       "      <td>0.3529</td>\n",
       "      <td>0.1765</td>\n",
       "      <td>0.1176</td>\n",
       "      <td>0.5294</td>\n",
       "      <td>0.4118</td>\n",
       "      <td>0</td>\n",
       "      <td>0.2941</td>\n",
       "      <td>0.1176</td>\n",
       "    </tr>\n",
       "    <tr>\n",
       "      <th>0</th>\n",
       "      <td>wbc</td>\n",
       "      <td>378</td>\n",
       "      <td>30</td>\n",
       "      <td>5.5556</td>\n",
       "      <td>0.3</td>\n",
       "      <td>0.6</td>\n",
       "      <td>0.5</td>\n",
       "      <td>0.7</td>\n",
       "      <td>0.5</td>\n",
       "      <td>0.5</td>\n",
       "      <td>0.4</td>\n",
       "      <td>0.4</td>\n",
       "      <td>0.5</td>\n",
       "      <td>0.6</td>\n",
       "    </tr>\n",
       "  </tbody>\n",
       "</table>\n",
       "</div>"
      ],
      "text/plain": [
       "         Data #Samples # Dimensions Outlier Perc    ABOD   CBLOF      FB  \\\n",
       "0  arrhythmia      452          274      14.6018  0.3571  0.4643     0.5   \n",
       "0      cardio     1831           21       9.6122  0.1875  0.4844  0.1406   \n",
       "0       glass      214            9       4.2056    0.25    0.25    0.25   \n",
       "0  ionosphere      351           33      35.8974  0.8214  0.8036    0.75   \n",
       "0      letter     1600           32         6.25   0.275   0.175     0.4   \n",
       "0      lympho      148           18       4.0541     0.4     0.6     0.6   \n",
       "0       mnist     7603          100       9.2069  0.3562  0.4007  0.3664   \n",
       "0        musk     3062          166       3.1679  0.0333       1  0.1667   \n",
       "0   optdigits     5216           64       2.8758  0.0161       0  0.0484   \n",
       "0   pendigits     6870           16       2.2707  0.0308  0.3077  0.0462   \n",
       "0        pima      768            8      34.8958  0.5106  0.4681  0.4468   \n",
       "0   satellite     6435           36      31.6395  0.3918  0.5574  0.4051   \n",
       "0  satimage-2     5803           36       1.2235  0.2593  0.8889  0.0741   \n",
       "0     shuttle    49097            9       7.1511  0.1918  0.2336   0.111   \n",
       "0   vertebral      240            6         12.5       0       0       0   \n",
       "0      vowels     1456           12       3.4341  0.4706  0.4118  0.3529   \n",
       "0         wbc      378           30       5.5556     0.3     0.6     0.5   \n",
       "\n",
       "     HBOS IForest     KNN     LOF     MCD   OCSVM     PCA  \n",
       "0  0.5714  0.5357     0.5  0.4643  0.4286     0.5     0.5  \n",
       "0  0.4688  0.4531  0.2812   0.125  0.3906  0.5938  0.6875  \n",
       "0       0    0.25    0.25    0.25       0    0.25    0.25  \n",
       "0  0.3393  0.6607  0.8393    0.75  0.8571  0.7143  0.5893  \n",
       "0   0.125    0.05     0.3   0.325   0.075     0.1    0.05  \n",
       "0     0.8     0.6     0.6     0.6     0.6     0.6     0.8  \n",
       "0  0.1199  0.3116  0.4144   0.339  0.3973  0.3801  0.3767  \n",
       "0  0.9667     0.9  0.2333  0.1333  0.9667       1       1  \n",
       "0  0.2581  0.0161       0  0.0484       0       0       0  \n",
       "0  0.2615  0.2615  0.0462  0.0462  0.0615  0.2923  0.3385  \n",
       "0  0.5213  0.4787  0.5106  0.4787  0.4787  0.4574     0.5  \n",
       "0  0.5466   0.578  0.4994  0.4051  0.6747  0.5224  0.4559  \n",
       "0  0.5926  0.8889  0.3704  0.0741  0.5185  0.9259  0.8519  \n",
       "0  0.9857  0.9337  0.2199  0.1406  0.7534  0.9553  0.9503  \n",
       "0       0       0       0       0       0       0       0  \n",
       "0  0.1765  0.1176  0.5294  0.4118       0  0.2941  0.1176  \n",
       "0     0.7     0.5     0.5     0.4     0.4     0.5     0.6  "
      ]
     },
     "execution_count": 23,
     "metadata": {},
     "output_type": "execute_result"
    }
   ],
   "source": [
    "prn_df"
   ]
  },
  {
   "cell_type": "code",
   "execution_count": 24,
   "metadata": {
    "ExecuteTime": {
     "end_time": "2020-10-23T00:51:37.975890Z",
     "start_time": "2020-10-23T00:51:37.940843Z"
    }
   },
   "outputs": [
    {
     "data": {
      "text/html": [
       "<div>\n",
       "<style scoped>\n",
       "    .dataframe tbody tr th:only-of-type {\n",
       "        vertical-align: middle;\n",
       "    }\n",
       "\n",
       "    .dataframe tbody tr th {\n",
       "        vertical-align: top;\n",
       "    }\n",
       "\n",
       "    .dataframe thead th {\n",
       "        text-align: right;\n",
       "    }\n",
       "</style>\n",
       "<table border=\"1\" class=\"dataframe\">\n",
       "  <thead>\n",
       "    <tr style=\"text-align: right;\">\n",
       "      <th></th>\n",
       "      <th>Data</th>\n",
       "      <th>#Samples</th>\n",
       "      <th># Dimensions</th>\n",
       "      <th>Outlier Perc</th>\n",
       "      <th>ABOD</th>\n",
       "      <th>CBLOF</th>\n",
       "      <th>FB</th>\n",
       "      <th>HBOS</th>\n",
       "      <th>IForest</th>\n",
       "      <th>KNN</th>\n",
       "      <th>LOF</th>\n",
       "      <th>MCD</th>\n",
       "      <th>OCSVM</th>\n",
       "      <th>PCA</th>\n",
       "    </tr>\n",
       "  </thead>\n",
       "  <tbody>\n",
       "    <tr>\n",
       "      <th>0</th>\n",
       "      <td>arrhythmia</td>\n",
       "      <td>452</td>\n",
       "      <td>274</td>\n",
       "      <td>14.6018</td>\n",
       "      <td>3.0879</td>\n",
       "      <td>3.0459</td>\n",
       "      <td>1.3434</td>\n",
       "      <td>4.0855</td>\n",
       "      <td>0.772</td>\n",
       "      <td>0.2334</td>\n",
       "      <td>0.1811</td>\n",
       "      <td>1.1639</td>\n",
       "      <td>0.0859</td>\n",
       "      <td>0.1371</td>\n",
       "    </tr>\n",
       "    <tr>\n",
       "      <th>0</th>\n",
       "      <td>cardio</td>\n",
       "      <td>1831</td>\n",
       "      <td>21</td>\n",
       "      <td>9.6122</td>\n",
       "      <td>0.669</td>\n",
       "      <td>0.1948</td>\n",
       "      <td>1.1015</td>\n",
       "      <td>0.0113</td>\n",
       "      <td>1.1807</td>\n",
       "      <td>0.3503</td>\n",
       "      <td>0.2292</td>\n",
       "      <td>1.213</td>\n",
       "      <td>0.1593</td>\n",
       "      <td>0.0138</td>\n",
       "    </tr>\n",
       "    <tr>\n",
       "      <th>0</th>\n",
       "      <td>glass</td>\n",
       "      <td>214</td>\n",
       "      <td>9</td>\n",
       "      <td>4.2056</td>\n",
       "      <td>0.1317</td>\n",
       "      <td>0.1246</td>\n",
       "      <td>0.1048</td>\n",
       "      <td>0.0065</td>\n",
       "      <td>0.9889</td>\n",
       "      <td>0.0295</td>\n",
       "      <td>0.0077</td>\n",
       "      <td>0.1132</td>\n",
       "      <td>0.0032</td>\n",
       "      <td>0.0074</td>\n",
       "    </tr>\n",
       "    <tr>\n",
       "      <th>0</th>\n",
       "      <td>ionosphere</td>\n",
       "      <td>351</td>\n",
       "      <td>33</td>\n",
       "      <td>35.8974</td>\n",
       "      <td>0.1871</td>\n",
       "      <td>0.1573</td>\n",
       "      <td>0.1666</td>\n",
       "      <td>0.0177</td>\n",
       "      <td>0.9535</td>\n",
       "      <td>0.064</td>\n",
       "      <td>0.028</td>\n",
       "      <td>0.1798</td>\n",
       "      <td>0.0205</td>\n",
       "      <td>0.0215</td>\n",
       "    </tr>\n",
       "    <tr>\n",
       "      <th>0</th>\n",
       "      <td>letter</td>\n",
       "      <td>1600</td>\n",
       "      <td>32</td>\n",
       "      <td>6.25</td>\n",
       "      <td>1.0991</td>\n",
       "      <td>0.2836</td>\n",
       "      <td>2.2322</td>\n",
       "      <td>0.0392</td>\n",
       "      <td>1.2008</td>\n",
       "      <td>0.4037</td>\n",
       "      <td>0.3005</td>\n",
       "      <td>2.3654</td>\n",
       "      <td>0.1754</td>\n",
       "      <td>0.016</td>\n",
       "    </tr>\n",
       "    <tr>\n",
       "      <th>0</th>\n",
       "      <td>lympho</td>\n",
       "      <td>148</td>\n",
       "      <td>18</td>\n",
       "      <td>4.0541</td>\n",
       "      <td>0.0944</td>\n",
       "      <td>0.1348</td>\n",
       "      <td>0.1254</td>\n",
       "      <td>0.0093</td>\n",
       "      <td>0.8664</td>\n",
       "      <td>0.0098</td>\n",
       "      <td>0.0081</td>\n",
       "      <td>0.1002</td>\n",
       "      <td>0.0051</td>\n",
       "      <td>0.0058</td>\n",
       "    </tr>\n",
       "    <tr>\n",
       "      <th>0</th>\n",
       "      <td>mnist</td>\n",
       "      <td>7603</td>\n",
       "      <td>100</td>\n",
       "      <td>9.2069</td>\n",
       "      <td>17.1418</td>\n",
       "      <td>0.9961</td>\n",
       "      <td>125.746</td>\n",
       "      <td>0.1771</td>\n",
       "      <td>5.598</td>\n",
       "      <td>16.6752</td>\n",
       "      <td>15.8075</td>\n",
       "      <td>5.5237</td>\n",
       "      <td>10.3364</td>\n",
       "      <td>0.285</td>\n",
       "    </tr>\n",
       "    <tr>\n",
       "      <th>0</th>\n",
       "      <td>musk</td>\n",
       "      <td>3062</td>\n",
       "      <td>166</td>\n",
       "      <td>3.1679</td>\n",
       "      <td>5.8764</td>\n",
       "      <td>0.4994</td>\n",
       "      <td>26.8459</td>\n",
       "      <td>0.1298</td>\n",
       "      <td>3.1083</td>\n",
       "      <td>4.1286</td>\n",
       "      <td>3.8464</td>\n",
       "      <td>19.219</td>\n",
       "      <td>2.7235</td>\n",
       "      <td>0.3339</td>\n",
       "    </tr>\n",
       "    <tr>\n",
       "      <th>0</th>\n",
       "      <td>optdigits</td>\n",
       "      <td>5216</td>\n",
       "      <td>64</td>\n",
       "      <td>2.8758</td>\n",
       "      <td>7.2024</td>\n",
       "      <td>0.6747</td>\n",
       "      <td>35.4109</td>\n",
       "      <td>0.0815</td>\n",
       "      <td>2.6143</td>\n",
       "      <td>4.7856</td>\n",
       "      <td>4.1773</td>\n",
       "      <td>2.2305</td>\n",
       "      <td>3.1378</td>\n",
       "      <td>0.1046</td>\n",
       "    </tr>\n",
       "    <tr>\n",
       "      <th>0</th>\n",
       "      <td>pendigits</td>\n",
       "      <td>6870</td>\n",
       "      <td>16</td>\n",
       "      <td>2.2707</td>\n",
       "      <td>4.3068</td>\n",
       "      <td>0.5637</td>\n",
       "      <td>12.1949</td>\n",
       "      <td>0.0248</td>\n",
       "      <td>1.9715</td>\n",
       "      <td>1.9056</td>\n",
       "      <td>1.6426</td>\n",
       "      <td>4.3741</td>\n",
       "      <td>2.4307</td>\n",
       "      <td>0.0228</td>\n",
       "    </tr>\n",
       "    <tr>\n",
       "      <th>0</th>\n",
       "      <td>pima</td>\n",
       "      <td>768</td>\n",
       "      <td>8</td>\n",
       "      <td>34.8958</td>\n",
       "      <td>0.4687</td>\n",
       "      <td>0.2166</td>\n",
       "      <td>0.2837</td>\n",
       "      <td>0.0101</td>\n",
       "      <td>0.8876</td>\n",
       "      <td>0.0767</td>\n",
       "      <td>0.0351</td>\n",
       "      <td>0.1352</td>\n",
       "      <td>0.0276</td>\n",
       "      <td>0.002</td>\n",
       "    </tr>\n",
       "    <tr>\n",
       "      <th>0</th>\n",
       "      <td>satellite</td>\n",
       "      <td>6435</td>\n",
       "      <td>36</td>\n",
       "      <td>31.6395</td>\n",
       "      <td>5.4974</td>\n",
       "      <td>0.518</td>\n",
       "      <td>19.2065</td>\n",
       "      <td>0.0491</td>\n",
       "      <td>2.0297</td>\n",
       "      <td>2.6326</td>\n",
       "      <td>2.5914</td>\n",
       "      <td>4.4535</td>\n",
       "      <td>3.5661</td>\n",
       "      <td>0.0617</td>\n",
       "    </tr>\n",
       "    <tr>\n",
       "      <th>0</th>\n",
       "      <td>satimage-2</td>\n",
       "      <td>5803</td>\n",
       "      <td>36</td>\n",
       "      <td>1.2235</td>\n",
       "      <td>5.2477</td>\n",
       "      <td>0.4969</td>\n",
       "      <td>17.1768</td>\n",
       "      <td>0.0506</td>\n",
       "      <td>1.8037</td>\n",
       "      <td>2.2656</td>\n",
       "      <td>2.1174</td>\n",
       "      <td>4.1394</td>\n",
       "      <td>2.6469</td>\n",
       "      <td>0.0579</td>\n",
       "    </tr>\n",
       "    <tr>\n",
       "      <th>0</th>\n",
       "      <td>shuttle</td>\n",
       "      <td>49097</td>\n",
       "      <td>9</td>\n",
       "      <td>7.1511</td>\n",
       "      <td>42.7357</td>\n",
       "      <td>1.4817</td>\n",
       "      <td>140.728</td>\n",
       "      <td>0.0397</td>\n",
       "      <td>7.3397</td>\n",
       "      <td>25.8985</td>\n",
       "      <td>38.1631</td>\n",
       "      <td>44.7114</td>\n",
       "      <td>9236.2</td>\n",
       "      <td>0.0904</td>\n",
       "    </tr>\n",
       "    <tr>\n",
       "      <th>0</th>\n",
       "      <td>vertebral</td>\n",
       "      <td>240</td>\n",
       "      <td>6</td>\n",
       "      <td>12.5</td>\n",
       "      <td>0.1545</td>\n",
       "      <td>0.135</td>\n",
       "      <td>0.0815</td>\n",
       "      <td>0.0048</td>\n",
       "      <td>0.9592</td>\n",
       "      <td>0.0274</td>\n",
       "      <td>0.0068</td>\n",
       "      <td>0.1372</td>\n",
       "      <td>0.0031</td>\n",
       "      <td>0.004</td>\n",
       "    </tr>\n",
       "    <tr>\n",
       "      <th>0</th>\n",
       "      <td>vowels</td>\n",
       "      <td>1456</td>\n",
       "      <td>12</td>\n",
       "      <td>3.4341</td>\n",
       "      <td>0.9724</td>\n",
       "      <td>0.1878</td>\n",
       "      <td>0.6633</td>\n",
       "      <td>0.008</td>\n",
       "      <td>0.808</td>\n",
       "      <td>0.0976</td>\n",
       "      <td>0.0389</td>\n",
       "      <td>0.9834</td>\n",
       "      <td>0.0513</td>\n",
       "      <td>0.0042</td>\n",
       "    </tr>\n",
       "    <tr>\n",
       "      <th>0</th>\n",
       "      <td>wbc</td>\n",
       "      <td>378</td>\n",
       "      <td>30</td>\n",
       "      <td>5.5556</td>\n",
       "      <td>0.1506</td>\n",
       "      <td>0.1049</td>\n",
       "      <td>0.1222</td>\n",
       "      <td>0.0138</td>\n",
       "      <td>0.6482</td>\n",
       "      <td>0.0302</td>\n",
       "      <td>0.0108</td>\n",
       "      <td>0.0841</td>\n",
       "      <td>0.0112</td>\n",
       "      <td>0.01</td>\n",
       "    </tr>\n",
       "  </tbody>\n",
       "</table>\n",
       "</div>"
      ],
      "text/plain": [
       "         Data #Samples # Dimensions Outlier Perc     ABOD   CBLOF       FB  \\\n",
       "0  arrhythmia      452          274      14.6018   3.0879  3.0459   1.3434   \n",
       "0      cardio     1831           21       9.6122    0.669  0.1948   1.1015   \n",
       "0       glass      214            9       4.2056   0.1317  0.1246   0.1048   \n",
       "0  ionosphere      351           33      35.8974   0.1871  0.1573   0.1666   \n",
       "0      letter     1600           32         6.25   1.0991  0.2836   2.2322   \n",
       "0      lympho      148           18       4.0541   0.0944  0.1348   0.1254   \n",
       "0       mnist     7603          100       9.2069  17.1418  0.9961  125.746   \n",
       "0        musk     3062          166       3.1679   5.8764  0.4994  26.8459   \n",
       "0   optdigits     5216           64       2.8758   7.2024  0.6747  35.4109   \n",
       "0   pendigits     6870           16       2.2707   4.3068  0.5637  12.1949   \n",
       "0        pima      768            8      34.8958   0.4687  0.2166   0.2837   \n",
       "0   satellite     6435           36      31.6395   5.4974   0.518  19.2065   \n",
       "0  satimage-2     5803           36       1.2235   5.2477  0.4969  17.1768   \n",
       "0     shuttle    49097            9       7.1511  42.7357  1.4817  140.728   \n",
       "0   vertebral      240            6         12.5   0.1545   0.135   0.0815   \n",
       "0      vowels     1456           12       3.4341   0.9724  0.1878   0.6633   \n",
       "0         wbc      378           30       5.5556   0.1506  0.1049   0.1222   \n",
       "\n",
       "     HBOS IForest      KNN      LOF      MCD    OCSVM     PCA  \n",
       "0  4.0855   0.772   0.2334   0.1811   1.1639   0.0859  0.1371  \n",
       "0  0.0113  1.1807   0.3503   0.2292    1.213   0.1593  0.0138  \n",
       "0  0.0065  0.9889   0.0295   0.0077   0.1132   0.0032  0.0074  \n",
       "0  0.0177  0.9535    0.064    0.028   0.1798   0.0205  0.0215  \n",
       "0  0.0392  1.2008   0.4037   0.3005   2.3654   0.1754   0.016  \n",
       "0  0.0093  0.8664   0.0098   0.0081   0.1002   0.0051  0.0058  \n",
       "0  0.1771   5.598  16.6752  15.8075   5.5237  10.3364   0.285  \n",
       "0  0.1298  3.1083   4.1286   3.8464   19.219   2.7235  0.3339  \n",
       "0  0.0815  2.6143   4.7856   4.1773   2.2305   3.1378  0.1046  \n",
       "0  0.0248  1.9715   1.9056   1.6426   4.3741   2.4307  0.0228  \n",
       "0  0.0101  0.8876   0.0767   0.0351   0.1352   0.0276   0.002  \n",
       "0  0.0491  2.0297   2.6326   2.5914   4.4535   3.5661  0.0617  \n",
       "0  0.0506  1.8037   2.2656   2.1174   4.1394   2.6469  0.0579  \n",
       "0  0.0397  7.3397  25.8985  38.1631  44.7114   9236.2  0.0904  \n",
       "0  0.0048  0.9592   0.0274   0.0068   0.1372   0.0031   0.004  \n",
       "0   0.008   0.808   0.0976   0.0389   0.9834   0.0513  0.0042  \n",
       "0  0.0138  0.6482   0.0302   0.0108   0.0841   0.0112    0.01  "
      ]
     },
     "execution_count": 24,
     "metadata": {},
     "output_type": "execute_result"
    }
   ],
   "source": [
    "time_df"
   ]
  },
  {
   "cell_type": "code",
   "execution_count": null,
   "metadata": {},
   "outputs": [],
   "source": []
  },
  {
   "cell_type": "code",
   "execution_count": 25,
   "metadata": {
    "ExecuteTime": {
     "end_time": "2020-10-23T00:51:37.992103Z",
     "start_time": "2020-10-23T00:51:37.978271Z"
    }
   },
   "outputs": [],
   "source": [
    "# Define the number of inliers and outliers\n",
    "n_samples = len(y)\n",
    "clusters_separation = [0]\n",
    "\n",
    "n_inliers = int((1. - outliers_fraction) * n_samples)\n",
    "n_outliers = int(outliers_fraction * n_samples)\n",
    "ground_truth = np.zeros(n_samples, dtype=int)\n",
    "ground_truth[-n_outliers:] = 1\n",
    "\n"
   ]
  },
  {
   "cell_type": "code",
   "execution_count": 26,
   "metadata": {
    "ExecuteTime": {
     "end_time": "2020-10-23T00:51:38.007879Z",
     "start_time": "2020-10-23T00:51:37.995108Z"
    }
   },
   "outputs": [
    {
     "name": "stdout",
     "output_type": "stream",
     "text": [
      "Number of inliers: 357\n",
      "Number of outliers: 21\n",
      "Ground truth shape is (378,). Outlier are 1 and inliers are 0.\n",
      "\n",
      "[0 0 0 0 0 0 0 0 0 0 0 0 0 0 0 0 0 0 0 0 0 0 0 0 0 0 0 0 0 0 0 0 0 0 0 0 0\n",
      " 0 0 0 0 0 0 0 0 0 0 0 0 0 0 0 0 0 0 0 0 0 0 0 0 0 0 0 0 0 0 0 0 0 0 0 0 0\n",
      " 0 0 0 0 0 0 0 0 0 0 0 0 0 0 0 0 0 0 0 0 0 0 0 0 0 0 0 0 0 0 0 0 0 0 0 0 0\n",
      " 0 0 0 0 0 0 0 0 0 0 0 0 0 0 0 0 0 0 0 0 0 0 0 0 0 0 0 0 0 0 0 0 0 0 0 0 0\n",
      " 0 0 0 0 0 0 0 0 0 0 0 0 0 0 0 0 0 0 0 0 0 0 0 0 0 0 0 0 0 0 0 0 0 0 0 0 0\n",
      " 0 0 0 0 0 0 0 0 0 0 0 0 0 0 0 0 0 0 0 0 0 0 0 0 0 0 0 0 0 0 0 0 0 0 0 0 0\n",
      " 0 0 0 0 0 0 0 0 0 0 0 0 0 0 0 0 0 0 0 0 0 0 0 0 0 0 0 0 0 0 0 0 0 0 0 0 0\n",
      " 0 0 0 0 0 0 0 0 0 0 0 0 0 0 0 0 0 0 0 0 0 0 0 0 0 0 0 0 0 0 0 0 0 0 0 0 0\n",
      " 0 0 0 0 0 0 0 0 0 0 0 0 0 0 0 0 0 0 0 0 0 0 0 0 0 0 0 0 0 0 0 0 0 0 0 0 0\n",
      " 0 0 0 0 0 0 0 0 0 0 0 0 0 0 0 0 0 0 0 0 0 0 0 0 1 1 1 1 1 1 1 1 1 1 1 1 1\n",
      " 1 1 1 1 1 1 1 1]\n"
     ]
    }
   ],
   "source": [
    "# Show the statics of the data\n",
    "print('Number of inliers: %i' % n_inliers)\n",
    "print('Number of outliers: %i' % n_outliers)\n",
    "print('Ground truth shape is {shape}. Outlier are 1 and inliers are 0.\\n'.format(shape=ground_truth.shape))\n",
    "print(ground_truth)"
   ]
  },
  {
   "cell_type": "code",
   "execution_count": 27,
   "metadata": {
    "ExecuteTime": {
     "end_time": "2020-10-23T00:51:38.024656Z",
     "start_time": "2020-10-23T00:51:38.010872Z"
    }
   },
   "outputs": [
    {
     "name": "stdout",
     "output_type": "stream",
     "text": [
      "Model 1 Angle-based Outlier Detector (ABOD)\n",
      "Model 2 Cluster-based Local Outlier Factor\n",
      "Model 3 Feature Bagging\n",
      "Model 4 Histogram-base Outlier Detection (HBOS)\n",
      "Model 5 Isolation Forest\n",
      "Model 6 K Nearest Neighbors (KNN)\n",
      "Model 7 Local Outlier Factor (LOF)\n",
      "Model 8 Minimum Covariance Determinant (MCD)\n",
      "Model 9 One-class SVM (OCSVM)\n",
      "Model 10 Principal Component Analysis (PCA)\n"
     ]
    }
   ],
   "source": [
    "# Show all detectors\n",
    "for i, clf in enumerate(classifiers.keys()):\n",
    "    print('Model', i + 1, clf)"
   ]
  },
  {
   "cell_type": "code",
   "execution_count": null,
   "metadata": {},
   "outputs": [],
   "source": []
  }
 ],
 "metadata": {
  "kernelspec": {
   "display_name": "Python 3",
   "language": "python",
   "name": "python3"
  },
  "language_info": {
   "codemirror_mode": {
    "name": "ipython",
    "version": 3
   },
   "file_extension": ".py",
   "mimetype": "text/x-python",
   "name": "python",
   "nbconvert_exporter": "python",
   "pygments_lexer": "ipython3",
   "version": "3.8.3"
  },
  "toc": {
   "base_numbering": 1,
   "nav_menu": {},
   "number_sections": true,
   "sideBar": true,
   "skip_h1_title": false,
   "title_cell": "Table of Contents",
   "title_sidebar": "Contents",
   "toc_cell": false,
   "toc_position": {},
   "toc_section_display": true,
   "toc_window_display": false
  }
 },
 "nbformat": 4,
 "nbformat_minor": 2
}
