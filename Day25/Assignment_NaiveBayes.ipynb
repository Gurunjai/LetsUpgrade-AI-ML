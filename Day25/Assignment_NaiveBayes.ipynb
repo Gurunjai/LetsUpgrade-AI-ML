{
 "cells": [
  {
   "cell_type": "markdown",
   "metadata": {},
   "source": [
    "# Assignment for Day-25\n",
    "\n",
    "## Apply Naive Bayes Algorithms to Titanic DataSet\n",
    "\n",
    "Construct the naive bayes for the titanic dataset with the following dependent variables:\n",
    "\n",
    "___Survived, Pclass, Sex, SibSp, Parch & Embarked___"
   ]
  },
  {
   "cell_type": "markdown",
   "metadata": {},
   "source": [
    "__Import Libraries__"
   ]
  },
  {
   "cell_type": "code",
   "execution_count": 1,
   "metadata": {},
   "outputs": [],
   "source": [
    "import pandas as pd\n",
    "from sklearn.model_selection import train_test_split\n",
    "from sklearn.preprocessing import OrdinalEncoder, StandardScaler\n",
    "from sklearn.naive_bayes import BernoulliNB, GaussianNB\n",
    "from sklearn.metrics import accuracy_score, confusion_matrix\n",
    "from sklearn.pipeline import Pipeline\n",
    "from sklearn.compose import ColumnTransformer"
   ]
  },
  {
   "cell_type": "markdown",
   "metadata": {},
   "source": [
    "## Load the dataset train.csv"
   ]
  },
  {
   "cell_type": "code",
   "execution_count": 2,
   "metadata": {},
   "outputs": [],
   "source": [
    "DS_PATH=\"./datasets/train.csv\"\n",
    "def load_titanic_dataset(path=DS_PATH):\n",
    "    return pd.read_csv(path)"
   ]
  },
  {
   "cell_type": "code",
   "execution_count": 3,
   "metadata": {},
   "outputs": [
    {
     "data": {
      "text/html": [
       "<div>\n",
       "<style scoped>\n",
       "    .dataframe tbody tr th:only-of-type {\n",
       "        vertical-align: middle;\n",
       "    }\n",
       "\n",
       "    .dataframe tbody tr th {\n",
       "        vertical-align: top;\n",
       "    }\n",
       "\n",
       "    .dataframe thead th {\n",
       "        text-align: right;\n",
       "    }\n",
       "</style>\n",
       "<table border=\"1\" class=\"dataframe\">\n",
       "  <thead>\n",
       "    <tr style=\"text-align: right;\">\n",
       "      <th></th>\n",
       "      <th>PassengerId</th>\n",
       "      <th>Survived</th>\n",
       "      <th>Pclass</th>\n",
       "      <th>Name</th>\n",
       "      <th>Sex</th>\n",
       "      <th>Age</th>\n",
       "      <th>SibSp</th>\n",
       "      <th>Parch</th>\n",
       "      <th>Ticket</th>\n",
       "      <th>Fare</th>\n",
       "      <th>Cabin</th>\n",
       "      <th>Embarked</th>\n",
       "    </tr>\n",
       "  </thead>\n",
       "  <tbody>\n",
       "    <tr>\n",
       "      <th>0</th>\n",
       "      <td>1</td>\n",
       "      <td>0</td>\n",
       "      <td>3</td>\n",
       "      <td>Braund, Mr. Owen Harris</td>\n",
       "      <td>male</td>\n",
       "      <td>22.0</td>\n",
       "      <td>1</td>\n",
       "      <td>0</td>\n",
       "      <td>A/5 21171</td>\n",
       "      <td>7.2500</td>\n",
       "      <td>NaN</td>\n",
       "      <td>S</td>\n",
       "    </tr>\n",
       "    <tr>\n",
       "      <th>1</th>\n",
       "      <td>2</td>\n",
       "      <td>1</td>\n",
       "      <td>1</td>\n",
       "      <td>Cumings, Mrs. John Bradley (Florence Briggs Th...</td>\n",
       "      <td>female</td>\n",
       "      <td>38.0</td>\n",
       "      <td>1</td>\n",
       "      <td>0</td>\n",
       "      <td>PC 17599</td>\n",
       "      <td>71.2833</td>\n",
       "      <td>C85</td>\n",
       "      <td>C</td>\n",
       "    </tr>\n",
       "    <tr>\n",
       "      <th>2</th>\n",
       "      <td>3</td>\n",
       "      <td>1</td>\n",
       "      <td>3</td>\n",
       "      <td>Heikkinen, Miss. Laina</td>\n",
       "      <td>female</td>\n",
       "      <td>26.0</td>\n",
       "      <td>0</td>\n",
       "      <td>0</td>\n",
       "      <td>STON/O2. 3101282</td>\n",
       "      <td>7.9250</td>\n",
       "      <td>NaN</td>\n",
       "      <td>S</td>\n",
       "    </tr>\n",
       "    <tr>\n",
       "      <th>3</th>\n",
       "      <td>4</td>\n",
       "      <td>1</td>\n",
       "      <td>1</td>\n",
       "      <td>Futrelle, Mrs. Jacques Heath (Lily May Peel)</td>\n",
       "      <td>female</td>\n",
       "      <td>35.0</td>\n",
       "      <td>1</td>\n",
       "      <td>0</td>\n",
       "      <td>113803</td>\n",
       "      <td>53.1000</td>\n",
       "      <td>C123</td>\n",
       "      <td>S</td>\n",
       "    </tr>\n",
       "    <tr>\n",
       "      <th>4</th>\n",
       "      <td>5</td>\n",
       "      <td>0</td>\n",
       "      <td>3</td>\n",
       "      <td>Allen, Mr. William Henry</td>\n",
       "      <td>male</td>\n",
       "      <td>35.0</td>\n",
       "      <td>0</td>\n",
       "      <td>0</td>\n",
       "      <td>373450</td>\n",
       "      <td>8.0500</td>\n",
       "      <td>NaN</td>\n",
       "      <td>S</td>\n",
       "    </tr>\n",
       "  </tbody>\n",
       "</table>\n",
       "</div>"
      ],
      "text/plain": [
       "   PassengerId  Survived  Pclass  \\\n",
       "0            1         0       3   \n",
       "1            2         1       1   \n",
       "2            3         1       3   \n",
       "3            4         1       1   \n",
       "4            5         0       3   \n",
       "\n",
       "                                                Name     Sex   Age  SibSp  \\\n",
       "0                            Braund, Mr. Owen Harris    male  22.0      1   \n",
       "1  Cumings, Mrs. John Bradley (Florence Briggs Th...  female  38.0      1   \n",
       "2                             Heikkinen, Miss. Laina  female  26.0      0   \n",
       "3       Futrelle, Mrs. Jacques Heath (Lily May Peel)  female  35.0      1   \n",
       "4                           Allen, Mr. William Henry    male  35.0      0   \n",
       "\n",
       "   Parch            Ticket     Fare Cabin Embarked  \n",
       "0      0         A/5 21171   7.2500   NaN        S  \n",
       "1      0          PC 17599  71.2833   C85        C  \n",
       "2      0  STON/O2. 3101282   7.9250   NaN        S  \n",
       "3      0            113803  53.1000  C123        S  \n",
       "4      0            373450   8.0500   NaN        S  "
      ]
     },
     "execution_count": 3,
     "metadata": {},
     "output_type": "execute_result"
    }
   ],
   "source": [
    "titanic_ds = load_titanic_dataset()\n",
    "titanic_ds.head()"
   ]
  },
  {
   "cell_type": "code",
   "execution_count": 4,
   "metadata": {},
   "outputs": [
    {
     "name": "stdout",
     "output_type": "stream",
     "text": [
      "<class 'pandas.core.frame.DataFrame'>\n",
      "RangeIndex: 889 entries, 0 to 888\n",
      "Data columns (total 12 columns):\n",
      " #   Column       Non-Null Count  Dtype  \n",
      "---  ------       --------------  -----  \n",
      " 0   PassengerId  889 non-null    int64  \n",
      " 1   Survived     889 non-null    int64  \n",
      " 2   Pclass       889 non-null    int64  \n",
      " 3   Name         889 non-null    object \n",
      " 4   Sex          889 non-null    object \n",
      " 5   Age          889 non-null    float64\n",
      " 6   SibSp        889 non-null    int64  \n",
      " 7   Parch        889 non-null    int64  \n",
      " 8   Ticket       889 non-null    object \n",
      " 9   Fare         889 non-null    float64\n",
      " 10  Cabin        202 non-null    object \n",
      " 11  Embarked     889 non-null    object \n",
      "dtypes: float64(2), int64(5), object(5)\n",
      "memory usage: 83.5+ KB\n"
     ]
    }
   ],
   "source": [
    "titanic_ds.info()"
   ]
  },
  {
   "cell_type": "markdown",
   "metadata": {},
   "source": [
    "## Drop Name and PassengerId from the dataset"
   ]
  },
  {
   "cell_type": "code",
   "execution_count": 5,
   "metadata": {},
   "outputs": [
    {
     "data": {
      "text/html": [
       "<div>\n",
       "<style scoped>\n",
       "    .dataframe tbody tr th:only-of-type {\n",
       "        vertical-align: middle;\n",
       "    }\n",
       "\n",
       "    .dataframe tbody tr th {\n",
       "        vertical-align: top;\n",
       "    }\n",
       "\n",
       "    .dataframe thead th {\n",
       "        text-align: right;\n",
       "    }\n",
       "</style>\n",
       "<table border=\"1\" class=\"dataframe\">\n",
       "  <thead>\n",
       "    <tr style=\"text-align: right;\">\n",
       "      <th></th>\n",
       "      <th>Survived</th>\n",
       "      <th>Pclass</th>\n",
       "      <th>Sex</th>\n",
       "      <th>Age</th>\n",
       "      <th>SibSp</th>\n",
       "      <th>Parch</th>\n",
       "      <th>Ticket</th>\n",
       "      <th>Fare</th>\n",
       "      <th>Embarked</th>\n",
       "    </tr>\n",
       "  </thead>\n",
       "  <tbody>\n",
       "    <tr>\n",
       "      <th>0</th>\n",
       "      <td>0</td>\n",
       "      <td>3</td>\n",
       "      <td>male</td>\n",
       "      <td>22.0</td>\n",
       "      <td>1</td>\n",
       "      <td>0</td>\n",
       "      <td>A/5 21171</td>\n",
       "      <td>7.2500</td>\n",
       "      <td>S</td>\n",
       "    </tr>\n",
       "    <tr>\n",
       "      <th>1</th>\n",
       "      <td>1</td>\n",
       "      <td>1</td>\n",
       "      <td>female</td>\n",
       "      <td>38.0</td>\n",
       "      <td>1</td>\n",
       "      <td>0</td>\n",
       "      <td>PC 17599</td>\n",
       "      <td>71.2833</td>\n",
       "      <td>C</td>\n",
       "    </tr>\n",
       "    <tr>\n",
       "      <th>2</th>\n",
       "      <td>1</td>\n",
       "      <td>3</td>\n",
       "      <td>female</td>\n",
       "      <td>26.0</td>\n",
       "      <td>0</td>\n",
       "      <td>0</td>\n",
       "      <td>STON/O2. 3101282</td>\n",
       "      <td>7.9250</td>\n",
       "      <td>S</td>\n",
       "    </tr>\n",
       "    <tr>\n",
       "      <th>3</th>\n",
       "      <td>1</td>\n",
       "      <td>1</td>\n",
       "      <td>female</td>\n",
       "      <td>35.0</td>\n",
       "      <td>1</td>\n",
       "      <td>0</td>\n",
       "      <td>113803</td>\n",
       "      <td>53.1000</td>\n",
       "      <td>S</td>\n",
       "    </tr>\n",
       "    <tr>\n",
       "      <th>4</th>\n",
       "      <td>0</td>\n",
       "      <td>3</td>\n",
       "      <td>male</td>\n",
       "      <td>35.0</td>\n",
       "      <td>0</td>\n",
       "      <td>0</td>\n",
       "      <td>373450</td>\n",
       "      <td>8.0500</td>\n",
       "      <td>S</td>\n",
       "    </tr>\n",
       "  </tbody>\n",
       "</table>\n",
       "</div>"
      ],
      "text/plain": [
       "   Survived  Pclass     Sex   Age  SibSp  Parch            Ticket     Fare  \\\n",
       "0         0       3    male  22.0      1      0         A/5 21171   7.2500   \n",
       "1         1       1  female  38.0      1      0          PC 17599  71.2833   \n",
       "2         1       3  female  26.0      0      0  STON/O2. 3101282   7.9250   \n",
       "3         1       1  female  35.0      1      0            113803  53.1000   \n",
       "4         0       3    male  35.0      0      0            373450   8.0500   \n",
       "\n",
       "  Embarked  \n",
       "0        S  \n",
       "1        C  \n",
       "2        S  \n",
       "3        S  \n",
       "4        S  "
      ]
     },
     "execution_count": 5,
     "metadata": {},
     "output_type": "execute_result"
    }
   ],
   "source": [
    "unwanted_cols=[\"PassengerId\", \"Name\", \"Cabin\"]\n",
    "titanic_ds.drop(unwanted_cols, axis=1, inplace=True)\n",
    "titanic_ds.head()"
   ]
  },
  {
   "cell_type": "code",
   "execution_count": 6,
   "metadata": {},
   "outputs": [
    {
     "name": "stdout",
     "output_type": "stream",
     "text": [
      "<class 'pandas.core.frame.DataFrame'>\n",
      "RangeIndex: 889 entries, 0 to 888\n",
      "Data columns (total 9 columns):\n",
      " #   Column    Non-Null Count  Dtype  \n",
      "---  ------    --------------  -----  \n",
      " 0   Survived  889 non-null    int64  \n",
      " 1   Pclass    889 non-null    int64  \n",
      " 2   Sex       889 non-null    object \n",
      " 3   Age       889 non-null    float64\n",
      " 4   SibSp     889 non-null    int64  \n",
      " 5   Parch     889 non-null    int64  \n",
      " 6   Ticket    889 non-null    object \n",
      " 7   Fare      889 non-null    float64\n",
      " 8   Embarked  889 non-null    object \n",
      "dtypes: float64(2), int64(4), object(3)\n",
      "memory usage: 62.6+ KB\n"
     ]
    }
   ],
   "source": [
    "titanic_ds.info()"
   ]
  },
  {
   "cell_type": "code",
   "execution_count": 7,
   "metadata": {},
   "outputs": [
    {
     "data": {
      "text/plain": [
       "male      577\n",
       "female    312\n",
       "Name: Sex, dtype: int64"
      ]
     },
     "execution_count": 7,
     "metadata": {},
     "output_type": "execute_result"
    }
   ],
   "source": [
    "titanic_ds.Sex.value_counts()"
   ]
  },
  {
   "cell_type": "code",
   "execution_count": 8,
   "metadata": {},
   "outputs": [
    {
     "data": {
      "text/plain": [
       "CA. 2343      7\n",
       "347082        7\n",
       "1601          7\n",
       "CA 2144       6\n",
       "347088        6\n",
       "             ..\n",
       "36963         1\n",
       "2674          1\n",
       "C.A. 17248    1\n",
       "3474          1\n",
       "PC 17595      1\n",
       "Name: Ticket, Length: 680, dtype: int64"
      ]
     },
     "execution_count": 8,
     "metadata": {},
     "output_type": "execute_result"
    }
   ],
   "source": [
    "titanic_ds.Ticket.value_counts()"
   ]
  },
  {
   "cell_type": "code",
   "execution_count": 9,
   "metadata": {},
   "outputs": [
    {
     "data": {
      "text/plain": [
       "S    644\n",
       "C    168\n",
       "Q     77\n",
       "Name: Embarked, dtype: int64"
      ]
     },
     "execution_count": 9,
     "metadata": {},
     "output_type": "execute_result"
    }
   ],
   "source": [
    "titanic_ds.Embarked.value_counts()"
   ]
  },
  {
   "cell_type": "markdown",
   "metadata": {},
   "source": [
    "## Define the pipeline for conversion"
   ]
  },
  {
   "cell_type": "code",
   "execution_count": 10,
   "metadata": {},
   "outputs": [],
   "source": [
    "def prepare_titanic_pipeline(data, dv):\n",
    "    cat_cols = [\"Sex\", \"Ticket\", \"Embarked\"]\n",
    "    num_cols = [\"Survived\", \"Pclass\", \"Age\", \"SibSp\", \"Parch\", \"Fare\"]\n",
    "    \n",
    "    ## Remove the dv from the list\n",
    "    if dv in cat_cols:\n",
    "        cat_cols.remove(dv)\n",
    "    elif dv in num_cols:\n",
    "        num_cols.remove(dv)\n",
    "    else:\n",
    "        print(\"Is it valid Dependent Variable\")\n",
    "        return None\n",
    "    \n",
    "    np = Pipeline([\n",
    "        ('std scaler', StandardScaler()), \n",
    "    ])\n",
    "    \n",
    "    fp = ColumnTransformer([\n",
    "        ('num', np, num_cols),\n",
    "        ('cat', OrdinalEncoder(), cat_cols),\n",
    "    ])\n",
    "    \n",
    "    return fp.fit_transform(data)"
   ]
  },
  {
   "cell_type": "markdown",
   "metadata": {},
   "source": [
    "## Routine to apply Naive Bayes"
   ]
  },
  {
   "cell_type": "code",
   "execution_count": 11,
   "metadata": {},
   "outputs": [],
   "source": [
    "def SpecNBData(data, dv, nbType):\n",
    "    if nbType == 'bermouli':\n",
    "        model = BernoulliNB()\n",
    "    elif nbType == 'gaussian':\n",
    "        model = GaussianNB()\n",
    "    else:\n",
    "        print(\"Unsupport Naive Bayes Model Type: {0}\".format(nbType))\n",
    "        return None\n",
    "        \n",
    "    X = data.drop(dv, axis=1)\n",
    "    y = data[dv]\n",
    "    \n",
    "    X_train, X_test, y_train, y_test = train_test_split(X, y, test_size=0.20, random_state=2)\n",
    "    \n",
    "    clf = model.fit(prepare_titanic_pipeline(X_train, dv), y_train)\n",
    "    y_pred = clf.predict(prepare_titanic_pipeline(X_test, dv))\n",
    "    \n",
    "    print(\"Accuracy score for dependent variable '{0}' on '{1}' NB Type:\\n{2}\".format(dv, nbType, accuracy_score(y_test, y_pred, normalize=True)))\n",
    "    print(\"Confusion Matrix for dependent variable '{0}' on '{1}' NB Type:\\n{2}\".format(dv, nbType, confusion_matrix(y_test, y_pred)))"
   ]
  },
  {
   "cell_type": "code",
   "execution_count": 12,
   "metadata": {},
   "outputs": [
    {
     "name": "stdout",
     "output_type": "stream",
     "text": [
      "Accuracy score for dependent variable 'Survived' on 'bermouli' NB Type:\n",
      "0.7696629213483146\n",
      "Confusion Matrix for dependent variable 'Survived' on 'bermouli' NB Type:\n",
      "[[91 20]\n",
      " [21 46]]\n"
     ]
    }
   ],
   "source": [
    "SpecNBData(titanic_ds, 'Survived', 'bermouli')"
   ]
  },
  {
   "cell_type": "code",
   "execution_count": 13,
   "metadata": {},
   "outputs": [
    {
     "name": "stdout",
     "output_type": "stream",
     "text": [
      "Accuracy score for dependent variable 'Survived' on 'bermouli' NB Type:\n",
      "0.7696629213483146\n",
      "Confusion Matrix for dependent variable 'Survived' on 'bermouli' NB Type:\n",
      "[[91 20]\n",
      " [21 46]]\n",
      "\n",
      "Accuracy score for dependent variable 'Pclass' on 'bermouli' NB Type:\n",
      "0.6123595505617978\n",
      "Confusion Matrix for dependent variable 'Pclass' on 'bermouli' NB Type:\n",
      "[[31  0 11]\n",
      " [ 3  6 40]\n",
      " [ 8  7 72]]\n",
      "\n",
      "Accuracy score for dependent variable 'Sex' on 'bermouli' NB Type:\n",
      "0.7808988764044944\n",
      "Confusion Matrix for dependent variable 'Sex' on 'bermouli' NB Type:\n",
      "[[44 20]\n",
      " [19 95]]\n",
      "\n",
      "Accuracy score for dependent variable 'SibSp' on 'bermouli' NB Type:\n",
      "0.6629213483146067\n",
      "Confusion Matrix for dependent variable 'SibSp' on 'bermouli' NB Type:\n",
      "[[106  22   0   0   1   0   0]\n",
      " [ 19  12   0   0   2   0   0]\n",
      " [  3   4   0   0   1   0   0]\n",
      " [  1   1   0   0   2   0   0]\n",
      " [  0   1   0   0   0   0   0]\n",
      " [  0   0   0   0   1   0   0]\n",
      " [  0   2   0   0   0   0   0]]\n",
      "\n",
      "Accuracy score for dependent variable 'Parch' on 'bermouli' NB Type:\n",
      "0.7471910112359551\n",
      "Confusion Matrix for dependent variable 'Parch' on 'bermouli' NB Type:\n",
      "[[126  12   0   0]\n",
      " [ 14   5   0   0]\n",
      " [ 12   6   2   0]\n",
      " [  0   1   0   0]]\n",
      "\n",
      "Accuracy score for dependent variable 'Embarked' on 'bermouli' NB Type:\n",
      "0.7303370786516854\n",
      "Confusion Matrix for dependent variable 'Embarked' on 'bermouli' NB Type:\n",
      "[[  4   0  20]\n",
      " [  0   1   8]\n",
      " [ 20   0 125]]\n",
      "\n"
     ]
    }
   ],
   "source": [
    "dv_list = ['Survived', 'Pclass', 'Sex', 'SibSp', 'Parch', 'Embarked']\n",
    "for dv in dv_list:\n",
    "    SpecNBData(titanic_ds, dv, 'bermouli')\n",
    "    print()"
   ]
  },
  {
   "cell_type": "code",
   "execution_count": 14,
   "metadata": {},
   "outputs": [
    {
     "name": "stdout",
     "output_type": "stream",
     "text": [
      "Accuracy score for dependent variable 'Survived' on 'gaussian' NB Type:\n",
      "0.7696629213483146\n",
      "Confusion Matrix for dependent variable 'Survived' on 'gaussian' NB Type:\n",
      "[[87 24]\n",
      " [17 50]]\n",
      "\n",
      "Accuracy score for dependent variable 'Pclass' on 'gaussian' NB Type:\n",
      "0.7359550561797753\n",
      "Confusion Matrix for dependent variable 'Pclass' on 'gaussian' NB Type:\n",
      "[[32  9  1]\n",
      " [ 4 39  6]\n",
      " [ 9 18 60]]\n",
      "\n",
      "Accuracy score for dependent variable 'Sex' on 'gaussian' NB Type:\n",
      "0.7359550561797753\n",
      "Confusion Matrix for dependent variable 'Sex' on 'gaussian' NB Type:\n",
      "[[39 25]\n",
      " [22 92]]\n",
      "\n",
      "Accuracy score for dependent variable 'SibSp' on 'gaussian' NB Type:\n",
      "0.6404494382022472\n",
      "Confusion Matrix for dependent variable 'SibSp' on 'gaussian' NB Type:\n",
      "[[103  12   2  12   0   0   0]\n",
      " [ 19   8   0   6   0   0   0]\n",
      " [  3   3   0   2   0   0   0]\n",
      " [  1   0   0   3   0   0   0]\n",
      " [  0   0   0   1   0   0   0]\n",
      " [  0   0   0   1   0   0   0]\n",
      " [  0   0   0   2   0   0   0]]\n",
      "\n",
      "Accuracy score for dependent variable 'Parch' on 'gaussian' NB Type:\n",
      "0.550561797752809\n",
      "Confusion Matrix for dependent variable 'Parch' on 'gaussian' NB Type:\n",
      "[[85  7  0  0 46]\n",
      " [ 7  7  1  0  4]\n",
      " [ 9  4  6  0  1]\n",
      " [ 0  1  0  0  0]\n",
      " [ 0  0  0  0  0]]\n",
      "\n",
      "Accuracy score for dependent variable 'Embarked' on 'gaussian' NB Type:\n",
      "0.7134831460674157\n",
      "Confusion Matrix for dependent variable 'Embarked' on 'gaussian' NB Type:\n",
      "[[  8   0  16]\n",
      " [  0   2   7]\n",
      " [ 23   5 117]]\n",
      "\n"
     ]
    }
   ],
   "source": [
    "dv_list = ['Survived', 'Pclass', 'Sex', 'SibSp', 'Parch', 'Embarked']\n",
    "for dv in dv_list:\n",
    "    SpecNBData(titanic_ds, dv, 'gaussian')\n",
    "    print()"
   ]
  },
  {
   "cell_type": "code",
   "execution_count": null,
   "metadata": {},
   "outputs": [],
   "source": []
  }
 ],
 "metadata": {
  "kernelspec": {
   "display_name": "Python 3",
   "language": "python",
   "name": "python3"
  },
  "language_info": {
   "codemirror_mode": {
    "name": "ipython",
    "version": 3
   },
   "file_extension": ".py",
   "mimetype": "text/x-python",
   "name": "python",
   "nbconvert_exporter": "python",
   "pygments_lexer": "ipython3",
   "version": "3.8.3"
  },
  "toc": {
   "base_numbering": 1,
   "nav_menu": {},
   "number_sections": true,
   "sideBar": true,
   "skip_h1_title": false,
   "title_cell": "Table of Contents",
   "title_sidebar": "Contents",
   "toc_cell": false,
   "toc_position": {},
   "toc_section_display": true,
   "toc_window_display": false
  },
  "varInspector": {
   "cols": {
    "lenName": 16,
    "lenType": 16,
    "lenVar": 40
   },
   "kernels_config": {
    "python": {
     "delete_cmd_postfix": "",
     "delete_cmd_prefix": "del ",
     "library": "var_list.py",
     "varRefreshCmd": "print(var_dic_list())"
    },
    "r": {
     "delete_cmd_postfix": ") ",
     "delete_cmd_prefix": "rm(",
     "library": "var_list.r",
     "varRefreshCmd": "cat(var_dic_list()) "
    }
   },
   "types_to_exclude": [
    "module",
    "function",
    "builtin_function_or_method",
    "instance",
    "_Feature"
   ],
   "window_display": false
  }
 },
 "nbformat": 4,
 "nbformat_minor": 4
}
