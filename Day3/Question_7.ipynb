{
 "cells": [
  {
   "cell_type": "code",
   "execution_count": 1,
   "metadata": {},
   "outputs": [],
   "source": [
    "## Program to Markdwon from Jupyter to provide GitHub instructions and procedure to upload\n",
    "## Day-3 Question 7 from LetsUpgrade AI ML "
   ]
  },
  {
   "cell_type": "markdown",
   "metadata": {},
   "source": [
    "# Assignment Submission\n",
    "\n",
    "    The details related to the assignment will be shared via the files section of that particular day and following is a brief procedure discussed on Day 3 of AI ML course for GitHub and assignment submission\n",
    "    \n",
    "## GitHub Access\n",
    "\n",
    "    Kindly signup for the new github account by accessing https://github.com/, If you already have the github access. We need to create a new public repository in the name of \"LetsUpgrade-AI-ML\" and for each day we need to create a new folder under the git repo source tree and then upload the assignments corresponding to that particular day... something similar to the below source tree representation\n",
    "    \n",
    "    github.com/abctheuser\n",
    "            ... LetsUpgrade-AI-ML ==> The Public visible Repo for the Assignments\n",
    "                    ... Day 3 ==> Sub directory which has all the programming assignments from Day 3\n",
    "                            ... Question_1.ipynb ==> Python Program for the assignment question 1\n",
    "                            ... Question_2.ipynb ==> Python Program for the assignment question 2\n",
    "                                    ...\n",
    "                                    ...\n",
    "                            ... Question_n.ipynb\n",
    "                    ... Day 4 ==> Sub directory which has all the programming assignments from Day 4\n",
    "                            ... Question_1.ipynb ==> Python Program for the assignment question 1\n",
    "                            ... Question_2.ipynb ==> Python Program for the assignment question 2\n",
    "                                    ...\n",
    "                                    ...\n",
    "                            ... Question_n.ipynb\n",
    "            \n",
    "                    ... (etc)\n",
    "                    \n",
    "      \n",
    "## Assignment Submission\n",
    "\n",
    "    The LetsUpgrade Team will provide the Google forms related to the assignment submission. We need to fill in appropriate details with the registered email id and registered mobile number.\n",
    "    \n",
    "    The corresponding GitHub URL related to that particular assignment day needs to be uploaded. ( To make sure that the repo is accessible, kindly copy the exact day URL which we need to submit and access that from the Incognito mode of Google Chrome)\n",
    "    \n",
    "    Once the link is accessible, you can fill the forms and submit the GitHub references for grading\n",
    "                            \n",
    "              \n",
    "                                "
   ]
  },
  {
   "cell_type": "code",
   "execution_count": null,
   "metadata": {},
   "outputs": [],
   "source": []
  }
 ],
 "metadata": {
  "kernelspec": {
   "display_name": "Python 3",
   "language": "python",
   "name": "python3"
  },
  "language_info": {
   "codemirror_mode": {
    "name": "ipython",
    "version": 3
   },
   "file_extension": ".py",
   "mimetype": "text/x-python",
   "name": "python",
   "nbconvert_exporter": "python",
   "pygments_lexer": "ipython3",
   "version": "3.7.6"
  }
 },
 "nbformat": 4,
 "nbformat_minor": 4
}