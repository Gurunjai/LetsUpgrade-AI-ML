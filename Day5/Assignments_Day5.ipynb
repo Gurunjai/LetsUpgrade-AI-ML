{
 "cells": [
  {
   "cell_type": "markdown",
   "metadata": {},
   "source": [
    "# Assignments for Day #5\n",
    "\n",
    "__This notebook captures the assignments problems for the Let's Upgrade AI ML course on Day 4 for Python Data Structures and Looping__\n",
    "\n",
    "__Author:__ Gurumurthi Krishnamurthy\n",
    "\n",
    "__GitHub:__ https://github.com/Gurunjai/LetsUpgrade-AI-ML/tree/master/Day5"
   ]
  },
  {
   "cell_type": "markdown",
   "metadata": {},
   "source": [
    "## Question 1:\n",
    "\n",
    "_Write a Python program to find the first 20 non-even prime natural numbers._"
   ]
  },
  {
   "cell_type": "code",
   "execution_count": 1,
   "metadata": {},
   "outputs": [
    {
     "name": "stdout",
     "output_type": "stream",
     "text": [
      "3, 5, 7, 11, 13, 17, 19, 23, 29, 31, 37, 41, 43, 47, 53, 59, 61, 67, 71, 73, \n",
      "\n",
      "Enter the count of prime numbers to be generated: 50\n",
      "3, 5, 7, 11, 13, 17, 19, 23, 29, 31, 37, 41, 43, 47, 53, 59, 61, 67, 71, 73, 79, 83, 89, 97, 101, 103, 107, 109, 113, 127, 131, 137, 139, 149, 151, 157, 163, 167, 173, 179, 181, 191, 193, 197, 199, 211, 223, 227, 229, 233, \n",
      "\n"
     ]
    }
   ],
   "source": [
    "def dumpPrime(num, count):\n",
    "    i = 0 # counter\n",
    "    while i < count:\n",
    "        for j in range(3, num, 2):\n",
    "            if (num % j) == 0:\n",
    "                break\n",
    "        else:\n",
    "            print(num, end = \", \")\n",
    "            i += 1\n",
    "        num += 2\n",
    "    print(\"\\n\")\n",
    "\n",
    "def _test():\n",
    "    dumpPrime(3, 20)\n",
    "\n",
    "def main():\n",
    "    count = int(input(\"Enter the count of prime numbers to be generated: \"))\n",
    "    dumpPrime(3, count)\n",
    "\n",
    "_test()\n",
    "main()"
   ]
  },
  {
   "cell_type": "markdown",
   "metadata": {},
   "source": [
    "## Question 2:\n",
    "\n",
    "_Write a Python program to implement 15 functions of string._"
   ]
  },
  {
   "cell_type": "code",
   "execution_count": 2,
   "metadata": {},
   "outputs": [
    {
     "name": "stdout",
     "output_type": "stream",
     "text": [
      "Below are 15 function's in built-in string library for \"            hello to some people for their test\"\n",
      "\t 1.  Lower:\t\"            hello to some people for their test\"\n",
      "\t 2.  Upper:\t\"            HELLO TO SOME PEOPLE FOR THEIR TEST\"\n",
      "\t 3.  Translate:\t\"            hxllo to somx pxoplx for thxir txst\"\n",
      "\t 4.  SwapCase:\t\"            HELLO TO SOME PEOPLE FOR THEIR TEST\"\n",
      "\t 5.  Replace:\t\"            hello yo some people for yheir yesy\"\n",
      "\t 6.  Find:\t\"43\"\n",
      "\t 7.  Rfind:\t\"46\"\n",
      "\t 8.  Split:\t\"['', '', '', '', '', '', '', '', '', '', '', '', 'hello', 'to', 'some', 'people', 'for', 'their', 'test']\"\n",
      "\t 9.  Lstrip:\t\"hello to some people for their test\"\n",
      "\t 10. Zfill:\t\"            hello to some people for their test\"\n",
      "\t 11. Starts with:\t\"False\"\n",
      "\t 12. isalpha:\t\"False\"\n",
      "\t 13. isupper:\t\"False\"\n",
      "\t 14. islower:\t\"True\"\n",
      "\t 15. Title:\t\"            Hello To Some People For Their Test\"\n",
      "Enter the string to demo: test for the string function to understand\n",
      "Below are 15 function's in built-in string library for \"test for the string function to understand\"\n",
      "\t 1.  Lower:\t\"test for the string function to understand\"\n",
      "\t 2.  Upper:\t\"TEST FOR THE STRING FUNCTION TO UNDERSTAND\"\n",
      "\t 3.  Translate:\t\"txst for thx string function to undxrstand\"\n",
      "\t 4.  SwapCase:\t\"TEST FOR THE STRING FUNCTION TO UNDERSTAND\"\n",
      "\t 5.  Replace:\t\"yesy for yhe syring funcyion yo undersyand\"\n",
      "\t 6.  Find:\t\"0\"\n",
      "\t 7.  Rfind:\t\"38\"\n",
      "\t 8.  Split:\t\"['test', 'for', 'the', 'string', 'function', 'to', 'understand']\"\n",
      "\t 9.  Lstrip:\t\"test for the string function to understand\"\n",
      "\t 10. Zfill:\t\"test for the string function to understand\"\n",
      "\t 11. Starts with:\t\"False\"\n",
      "\t 12. isalpha:\t\"False\"\n",
      "\t 13. isupper:\t\"False\"\n",
      "\t 14. islower:\t\"True\"\n",
      "\t 15. Title:\t\"Test For The String Function To Understand\"\n"
     ]
    }
   ],
   "source": [
    "def StrFunc(st):\n",
    "    print(\"Below are 15 function's in built-in string library for \\\"{0}\\\"\".format(st))\n",
    "    print(\"\\t 1.  Lower:\\t\\\"{0}\\\"\".format(st.lower()))\n",
    "    print(\"\\t 2.  Upper:\\t\\\"{0}\\\"\".format(st.upper()))\n",
    "    print(\"\\t 3.  Translate:\\t\\\"{0}\\\"\".format(st.translate(str.maketrans('e', 'x'))))\n",
    "    print(\"\\t 4.  SwapCase:\\t\\\"{0}\\\"\".format(st.swapcase()))\n",
    "    print(\"\\t 5.  Replace:\\t\\\"{0}\\\"\".format(st.replace('t', 'y')))\n",
    "    print(\"\\t 6.  Find:\\t\\\"{0}\\\"\".format(st.find(\"te\")))\n",
    "    print(\"\\t 7.  Rfind:\\t\\\"{0}\\\"\".format(st.rfind(\"t\")))\n",
    "    print(\"\\t 8.  Split:\\t\\\"{0}\\\"\".format(st.split(' ')))\n",
    "    print(\"\\t 9.  Lstrip:\\t\\\"{0}\\\"\".format(st.lstrip()))\n",
    "    print(\"\\t 10. Zfill:\\t\\\"{0}\\\"\".format(st.zfill(5)))\n",
    "    print(\"\\t 11. Starts with:\\t\\\"{0}\\\"\".format(st.startswith('he')))\n",
    "    print(\"\\t 12. isalpha:\\t\\\"{0}\\\"\".format(st.isalpha()))\n",
    "    print(\"\\t 13. isupper:\\t\\\"{0}\\\"\".format(st.isupper()))\n",
    "    print(\"\\t 14. islower:\\t\\\"{0}\\\"\".format(st.islower()))\n",
    "    print(\"\\t 15. Title:\\t\\\"{0}\\\"\".format(st.title()))\n",
    "    \n",
    "def _test():\n",
    "    StrFunc(\"            hello to some people for their test\")\n",
    "    \n",
    "def main():\n",
    "    StrFunc(input(\"Enter the string to demo: \"))\n",
    "          \n",
    "_test()\n",
    "main()"
   ]
  },
  {
   "cell_type": "markdown",
   "metadata": {},
   "source": [
    "## Question 3:\n",
    "\n",
    "_Write a Python program to check if the given string is a Palindrome or Anagram or None of them.\n",
    "Display the message accordingly to the user._\n",
    "\n",
    "___Note:___ The below routine TrimString will also be used as the solution for Question 4 of the assignment"
   ]
  },
  {
   "cell_type": "code",
   "execution_count": 3,
   "metadata": {},
   "outputs": [],
   "source": [
    "def TrimStringer(s):\n",
    "    dropset = \"0123456789!@#$%^&*()_+-=~`;:'\\\"\\/.,<>{} \"\n",
    "    return s.translate(str.maketrans('', '', dropset)).lower()"
   ]
  },
  {
   "cell_type": "code",
   "execution_count": 4,
   "metadata": {},
   "outputs": [
    {
     "name": "stdout",
     "output_type": "stream",
     "text": [
      "\"WoW\" is a Palindrome\n",
      "\"Mom\" is a Anagram\n",
      "\"DAD\" is a Palindrome\n",
      "\"Did\" is a Anagram\n",
      "\"DONE\" is a Anagram\n",
      "\"Test123\" is a Anagram\n",
      "\"Welcome\" and \"come\" are Not a Palindrome or Anagram\n",
      "\"Immediate\" and \"Date\" are Not a Palindrome or Anagram\n",
      "\"Silent\" and \"Listen\" are Anagram\n",
      "\"BAN\" and \"Banana\" are Not a Palindrome or Anagram\n",
      "\"anagram\" and \"nag a ram\" are Anagram\n",
      "\"Debit Card\" and \"Bad   Credit\" are Anagram\n",
      "\"eleven plus two\" and \"twelve plus one\" are Anagram\n",
      "Below are the available test:\n",
      "\t 1.\t Palindrome\n",
      "\t 2.\t Anagram\n",
      "Enter your choice: 2\n",
      "Enter the first string: evil\n",
      "Enter the second string: vile\n",
      "\"evil\" and \"vile\" are Anagram\n"
     ]
    }
   ],
   "source": [
    "def isPalindrome(st):\n",
    "    return st == st[::-1]\n",
    "\n",
    "## With a single string, it is anagram of itself, so this can be done with two strings\n",
    "def isAnagram(st1, st2):\n",
    "    if st2 is None:\n",
    "        return True\n",
    "    \n",
    "    st1 = TrimStringer(st1)\n",
    "    st2 = TrimStringer(st2)\n",
    "        \n",
    "    if len(st1) != len(st2):\n",
    "        return False\n",
    "    \n",
    "    charCnt = [None] * 27\n",
    "    charCnt = [int(0) for _ in charCnt]\n",
    "                \n",
    "    oa = ord('a')\n",
    "    for fir in st1:\n",
    "        charCnt[ord(fir) - oa] += 1\n",
    "        \n",
    "    for sec in st2:\n",
    "        if charCnt[ord(sec) - oa] == 0:\n",
    "            return False\n",
    "        charCnt[ord(sec) - oa] -= 1\n",
    "    \n",
    "    return True\n",
    "\n",
    "def checkString(st1, st2 = None):        \n",
    "    s = \"\"\n",
    "    if isPalindrome(st1):\n",
    "        s = \"Palindrome\"\n",
    "    elif isAnagram(st1, st2):\n",
    "        s = \"Anagram\"\n",
    "    else:\n",
    "        s = \"Not a Palindrome or Anagram\"\n",
    "    \n",
    "    return s\n",
    "\n",
    "def _test():\n",
    "    tList = [\n",
    "        [ \"WoW\", None ],\n",
    "        [ \"Mom\", None ],\n",
    "        [ \"DAD\", None ],\n",
    "        [ \"Did\", None ],\n",
    "        [ \"DONE\", None ],\n",
    "        [ \"Test123\", None ],\n",
    "        [ \"Welcome\", \"come\" ],\n",
    "        [ \"Immediate\", \"Date\" ],\n",
    "        [ \"Silent\", \"Listen\" ],\n",
    "        [ \"BAN\", \"Banana\" ],\n",
    "        [ \"anagram\", \"nag a ram\" ],\n",
    "        [ \"Debit Card\", \"Bad   Credit\" ],\n",
    "        [ \"eleven plus two\", \"twelve plus one\" ],        \n",
    "    ]\n",
    "    \n",
    "    for str1, str2 in tList:\n",
    "        if str2 is None:\n",
    "            print(\"\\\"{0}\\\" is a {1}\".format(str1, checkString(str1)))\n",
    "        else:\n",
    "            print(\"\\\"{0}\\\" and \\\"{1}\\\" are {2}\".format(str1, str2, checkString(str1, str2)))\n",
    "        \n",
    "def main():\n",
    "    choice = input(\"Below are the available test:\\n\\t 1.\\t Palindrome\\n\\t 2.\\t Anagram\\nEnter your choice: \")\n",
    "    if choice == '1':\n",
    "        st1 = input(\"Enter the string for Palindrome Test: \")\n",
    "        print(\"\\\"{0}\\\" is a {1}\".format(st1, checkString(st1)))\n",
    "        \n",
    "    elif choice == '2':\n",
    "        st1 = input(\"Enter the first string: \")\n",
    "        st2 = input(\"Enter the second string: \")\n",
    "        print(\"\\\"{0}\\\" and \\\"{1}\\\" are {2}\".format(st1, st2, checkString(st1, st2)))\n",
    "    else:\n",
    "        print(\"Invalid Input\")\n",
    "            \n",
    "_test()\n",
    "main()"
   ]
  },
  {
   "cell_type": "markdown",
   "metadata": {},
   "source": [
    "## Question 4:\n",
    "\n",
    "_Write a Python's user defined function that removes all the additional characters from the string\n",
    "and converts it finally to lower case using built-in lower(). eg: If the string is \"Dr. Darshan Ingle\n",
    "@AI-ML Trainer\", then the output be \"drdarshaningleaimltrainer\"._\n",
    "\n",
    "__Logic:__\n",
    "\n",
    "The maketrans and translate in-built routines of string can be used to perform this task, \n",
    "\n",
    "maketrans provides the table which can be used by the translate routine to remove the character in the table from the string\n",
    "\n",
    "Another possible solution would be to use the regular expression as below\n",
    "\n",
    "    import re\n",
    "    def TrimStringerRE(s):\n",
    "        return re.sub(r'[\\W\\d]+', '', s).lower()\n"
   ]
  },
  {
   "cell_type": "code",
   "execution_count": 5,
   "metadata": {},
   "outputs": [
    {
     "name": "stdout",
     "output_type": "stream",
     "text": [
      "Trimmed version of \"Dr. Darshan Ingle\" is: \"drdarshaningle\"\n",
      "Trimmed version of \"abcdefag{}435546\" is: \"abcdefag\"\n",
      "Trimmed version of \"welcome2 @#%$% world\" is: \"welcomeworld\"\n",
      "Enter the string to be trimmed: w0rld i$ never      tired 2 serve\n",
      "Trimmed version of \"w0rld i$ never      tired 2 serve\" is: \"wrldinevertiredserve\"\n"
     ]
    }
   ],
   "source": [
    "def main():\n",
    "    data = input(\"Enter the string to be trimmed: \")\n",
    "    print(\"Trimmed version of \\\"{0}\\\" is: \\\"{1}\\\"\".format(data, TrimStringer(data)))\n",
    "    \n",
    "def _test():\n",
    "    testList = [\"Dr. Darshan Ingle\", \"abcdefag{}435546\", \"welcome2 @#%$% world\"]\n",
    "    for data in testList:\n",
    "        print(\"Trimmed version of \\\"{0}\\\" is: \\\"{1}\\\"\".format(data, TrimStringer(data)))\n",
    "        \n",
    "_test()\n",
    "main()   \n"
   ]
  },
  {
   "cell_type": "code",
   "execution_count": null,
   "metadata": {},
   "outputs": [],
   "source": []
  }
 ],
 "metadata": {
  "kernelspec": {
   "display_name": "Python 3",
   "language": "python",
   "name": "python3"
  },
  "language_info": {
   "codemirror_mode": {
    "name": "ipython",
    "version": 3
   },
   "file_extension": ".py",
   "mimetype": "text/x-python",
   "name": "python",
   "nbconvert_exporter": "python",
   "pygments_lexer": "ipython3",
   "version": "3.7.6"
  },
  "toc": {
   "base_numbering": 1,
   "nav_menu": {},
   "number_sections": true,
   "sideBar": true,
   "skip_h1_title": false,
   "title_cell": "Table of Contents",
   "title_sidebar": "Contents",
   "toc_cell": false,
   "toc_position": {},
   "toc_section_display": true,
   "toc_window_display": false
  },
  "varInspector": {
   "cols": {
    "lenName": 16,
    "lenType": 16,
    "lenVar": 40
   },
   "kernels_config": {
    "python": {
     "delete_cmd_postfix": "",
     "delete_cmd_prefix": "del ",
     "library": "var_list.py",
     "varRefreshCmd": "print(var_dic_list())"
    },
    "r": {
     "delete_cmd_postfix": ") ",
     "delete_cmd_prefix": "rm(",
     "library": "var_list.r",
     "varRefreshCmd": "cat(var_dic_list()) "
    }
   },
   "position": {
    "height": "317.5px",
    "left": "910px",
    "right": "20px",
    "top": "120px",
    "width": "350px"
   },
   "types_to_exclude": [
    "module",
    "function",
    "builtin_function_or_method",
    "instance",
    "_Feature"
   ],
   "window_display": false
  }
 },
 "nbformat": 4,
 "nbformat_minor": 4
}
